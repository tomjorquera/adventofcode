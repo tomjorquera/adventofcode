{
 "cells": [
  {
   "cell_type": "markdown",
   "id": "mechanical-chassis",
   "metadata": {},
   "source": [
    "# Advent of Code 2022\n",
    "https://adventofcode.com/2022"
   ]
  },
  {
   "cell_type": "markdown",
   "id": "catholic-munich",
   "metadata": {
    "tags": []
   },
   "source": [
    "# Utils"
   ]
  },
  {
   "cell_type": "markdown",
   "id": "defined-masters",
   "metadata": {
    "tags": []
   },
   "source": [
    "## Imports"
   ]
  },
  {
   "cell_type": "code",
   "execution_count": null,
   "id": "piano-laugh",
   "metadata": {},
   "outputs": [],
   "source": [
    "import operator\n",
    "import sys\n",
    "from functools import reduce\n",
    "from io import StringIO\n",
    "\n",
    "\n",
    "import numpy as np"
   ]
  },
  {
   "cell_type": "markdown",
   "id": "compound-geometry",
   "metadata": {
    "tags": []
   },
   "source": [
    "## Parsing utilities"
   ]
  },
  {
   "cell_type": "code",
   "execution_count": null,
   "id": "republican-revelation",
   "metadata": {},
   "outputs": [],
   "source": [
    "def dayfile(daynum):\n",
    "    with open(f\"input{daynum}\") as f:\n",
    "        data = f.read().rstrip()\n",
    "    return data"
   ]
  },
  {
   "cell_type": "code",
   "execution_count": null,
   "id": "charged-marsh",
   "metadata": {},
   "outputs": [],
   "source": [
    "def as_list(element_parser, **args):\n",
    "    return lambda data: [element_parser(e) for e in data.split(**args) if e != \"\"]"
   ]
  },
  {
   "cell_type": "code",
   "execution_count": null,
   "id": "considerable-buying",
   "metadata": {},
   "outputs": [],
   "source": [
    "def as_matrix(element_parser, row_sep=\"\\n\", col_sep=\"\"):\n",
    "    def _inner(data):\n",
    "        data = data.strip()\n",
    "        res = []\n",
    "        for e in data.split(row_sep):\n",
    "            if col_sep == \"\":\n",
    "                e = list(e)\n",
    "            else:\n",
    "                e = e.split(col_sep)\n",
    "            res.append([element_parser(i.strip()) for i in e if i != \"\"])\n",
    "        return np.asarray(res)\n",
    "    return _inner"
   ]
  },
  {
   "cell_type": "code",
   "execution_count": null,
   "id": "living-cricket",
   "metadata": {},
   "outputs": [],
   "source": [
    "def as_pair(element_parser, sep=\",\"):\n",
    "    def _inner(entry):\n",
    "        a, b = entry.split(sep)\n",
    "        return (element_parser(a), element_parser(b))\n",
    "    return _inner"
   ]
  },
  {
   "cell_type": "markdown",
   "id": "seventh-singles",
   "metadata": {
    "tags": []
   },
   "source": [
    "# Day 1: Sonar Sweep\n",
    "\n",
    "Santa's reindeer typically eat regular reindeer food, but they need a lot of magical energy to deliver presents on Christmas. For that, their favorite snack is a special type of star fruit that only grows deep in the jungle. The Elves have brought you on their annual expedition to the grove where the fruit grows.\n",
    "\n",
    "To supply enough magical energy, the expedition needs to retrieve a minimum of fifty stars by December 25th. Although the Elves assure you that the grove has plenty of fruit, you decide to grab any fruit you see along the way, just in case.\n",
    "\n",
    "Collect stars by solving puzzles. Two puzzles will be made available on each day in the Advent calendar; the second puzzle is unlocked when you complete the first. Each puzzle grants one star. Good luck!\n",
    "\n",
    "The jungle must be too overgrown and difficult to navigate in vehicles or access from the air; the Elves' expedition traditionally goes on foot. As your boats approach land, the Elves begin taking inventory of their supplies. One important consideration is food - in particular, the number of Calories each Elf is carrying (your puzzle input).\n",
    "\n",
    "The Elves take turns writing down the number of Calories contained by the various meals, snacks, rations, etc. that they've brought with them, one item per line. Each Elf separates their own inventory from the previous Elf's inventory (if any) by a blank line.\n",
    "\n",
    "For example, suppose the Elves finish writing their items' Calories and end up with the following list:\n",
    "\n",
    "```\n",
    "1000\n",
    "2000\n",
    "3000\n",
    "\n",
    "4000\n",
    "\n",
    "5000\n",
    "6000\n",
    "\n",
    "7000\n",
    "8000\n",
    "9000\n",
    "\n",
    "10000\n",
    "```\n",
    "\n",
    "This list represents the Calories of the food carried by five Elves:\n",
    "\n",
    "- The first Elf is carrying food with 1000, 2000, and 3000 Calories, a total of 6000 Calories.\n",
    "- The second Elf is carrying one food item with 4000 Calories.\n",
    "- The third Elf is carrying food with 5000 and 6000 Calories, a total of 11000 Calories.\n",
    "- The fourth Elf is carrying food with 7000, 8000, and 9000 Calories, a total of 24000 Calories.\n",
    "- The fifth Elf is carrying one food item with 10000 Calories.\n",
    "\n",
    "In case the Elves get hungry and need extra snacks, they need to know which Elf to ask: they'd like to know how many Calories are being carried by the Elf carrying the most Calories. In the example above, this is 24000 (carried by the fourth Elf).\n",
    "\n",
    "Find the Elf carrying the most Calories. How many total Calories is that Elf carrying?"
   ]
  },
  {
   "cell_type": "code",
   "execution_count": null,
   "id": "angry-hughes",
   "metadata": {},
   "outputs": [],
   "source": [
    "def parse(text):\n",
    "    text = text.strip()\n",
    "    res = []\n",
    "    current = []\n",
    "    res.append(current)\n",
    "    for line in text.split(\"\\n\"):\n",
    "        if line == \"\":\n",
    "            current = []\n",
    "            res.append(current)\n",
    "        else:\n",
    "            current.append(int(line))\n",
    "    return res"
   ]
  },
  {
   "cell_type": "code",
   "execution_count": null,
   "id": "straight-economy",
   "metadata": {},
   "outputs": [],
   "source": [
    "test_data = parse(\"\"\"\n",
    "1000\n",
    "2000\n",
    "3000\n",
    "\n",
    "4000\n",
    "\n",
    "5000\n",
    "6000\n",
    "\n",
    "7000\n",
    "8000\n",
    "9000\n",
    "\n",
    "10000\n",
    "\"\"\")\n",
    "\n",
    "data = parse(dayfile(1))"
   ]
  },
  {
   "cell_type": "code",
   "execution_count": null,
   "id": "b14b141c-37f2-4d84-a069-71432dbe5d26",
   "metadata": {},
   "outputs": [],
   "source": [
    "test_data"
   ]
  },
  {
   "cell_type": "code",
   "execution_count": null,
   "id": "junior-emerald",
   "metadata": {},
   "outputs": [],
   "source": [
    "def d1_1(data):\n",
    "    agg_data = [sum(entry) for entry in data]\n",
    "    return max(agg_data)"
   ]
  },
  {
   "cell_type": "code",
   "execution_count": null,
   "id": "right-voltage",
   "metadata": {},
   "outputs": [],
   "source": [
    "d1_1(test_data)"
   ]
  },
  {
   "cell_type": "code",
   "execution_count": null,
   "id": "ongoing-yugoslavia",
   "metadata": {},
   "outputs": [],
   "source": [
    "d1_1(data)"
   ]
  },
  {
   "cell_type": "markdown",
   "id": "loaded-shepherd",
   "metadata": {},
   "source": [
    "## Part 2\n",
    "\n",
    "By the time you calculate the answer to the Elves' question, they've already realized that the Elf carrying the most Calories of food might eventually run out of snacks.\n",
    "\n",
    "To avoid this unacceptable situation, the Elves would instead like to know the total Calories carried by the top three Elves carrying the most Calories. That way, even if one of those Elves runs out of snacks, they still have two backups.\n",
    "\n",
    "In the example above, the top three Elves are the fourth Elf (with 24000 Calories), then the third Elf (with 11000 Calories), then the fifth Elf (with 10000 Calories). The sum of the Calories carried by these three elves is 45000.\n",
    "\n",
    "Find the top three Elves carrying the most Calories. How many Calories are those Elves carrying in total?"
   ]
  },
  {
   "cell_type": "code",
   "execution_count": null,
   "id": "8ebc3442-c3fd-457a-a52e-a0ffad78d5e1",
   "metadata": {},
   "outputs": [],
   "source": [
    "def d1_2(data):\n",
    "    agg_data = [sum(entry) for entry in data]\n",
    "    return sum(list(reversed(sorted(agg_data)))[0:3])"
   ]
  },
  {
   "cell_type": "code",
   "execution_count": null,
   "id": "pursuant-vehicle",
   "metadata": {},
   "outputs": [],
   "source": [
    "d1_2(test_data)"
   ]
  },
  {
   "cell_type": "code",
   "execution_count": null,
   "id": "progressive-difference",
   "metadata": {},
   "outputs": [],
   "source": [
    "d1_2(data)"
   ]
  },
  {
   "cell_type": "markdown",
   "id": "5cc18f14-04b4-4fa4-87b8-7c62d236c9f1",
   "metadata": {
    "tags": []
   },
   "source": [
    "# Day 2: Rock Paper Scissors\n",
    "\n",
    "The Elves begin to set up camp on the beach. To decide whose tent gets to be closest to the snack storage, a giant Rock Paper Scissors tournament is already in progress.\n",
    "\n",
    "Rock Paper Scissors is a game between two players. Each game contains many rounds; in each round, the players each simultaneously choose one of Rock, Paper, or Scissors using a hand shape. Then, a winner for that round is selected: Rock defeats Scissors, Scissors defeats Paper, and Paper defeats Rock. If both players choose the same shape, the round instead ends in a draw.\n",
    "\n",
    "Appreciative of your help yesterday, one Elf gives you an encrypted strategy guide (your puzzle input) that they say will be sure to help you win. \"The first column is what your opponent is going to play: A for Rock, B for Paper, and C for Scissors. The second column--\" Suddenly, the Elf is called away to help with someone's tent.\n",
    "\n",
    "The second column, you reason, must be what you should play in response: X for Rock, Y for Paper, and Z for Scissors. Winning every time would be suspicious, so the responses must have been carefully chosen.\n",
    "\n",
    "The winner of the whole tournament is the player with the highest score. Your total score is the sum of your scores for each round. The score for a single round is the score for the shape you selected (1 for Rock, 2 for Paper, and 3 for Scissors) plus the score for the outcome of the round (0 if you lost, 3 if the round was a draw, and 6 if you won).\n",
    "\n",
    "Since you can't be sure if the Elf is trying to help you or trick you, you should calculate the score you would get if you were to follow the strategy guide.\n",
    "\n",
    "For example, suppose you were given the following strategy guide:\n",
    "\n",
    "```\n",
    "A Y\n",
    "B X\n",
    "C Z\n",
    "```\n",
    "\n",
    "This strategy guide predicts and recommends the following:\n",
    "\n",
    "- In the first round, your opponent will choose Rock (A), and you should choose Paper (Y). This ends in a win for you with a score of 8 (2 because you chose Paper + 6 because you won).\n",
    "- In the second round, your opponent will choose Paper (B), and you should choose Rock (X). This ends in a loss for you with a score of 1 (1 + 0).\n",
    "- The third round is a draw with both players choosing Scissors, giving you a score of 3 + 3 = 6.\n",
    "\n",
    "In this example, if you were to follow the strategy guide, you would get a total score of 15 (8 + 1 + 6).\n",
    "\n",
    "What would your total score be if everything goes exactly according to your strategy guide?\n"
   ]
  },
  {
   "cell_type": "code",
   "execution_count": null,
   "id": "035e60ec-1f7a-49e9-8c31-ca9fac2b28d8",
   "metadata": {},
   "outputs": [],
   "source": [
    "parse = as_list(as_pair(str, \" \"), sep=\"\\n\")"
   ]
  },
  {
   "cell_type": "code",
   "execution_count": null,
   "id": "241ab1a1-ad3f-4ea0-a3b6-88f13843191e",
   "metadata": {},
   "outputs": [],
   "source": [
    "test_data = parse(\"\"\"\n",
    "A Y\n",
    "B X\n",
    "C Z\n",
    "\"\"\")\n",
    "\n",
    "data = parse(dayfile(2))"
   ]
  },
  {
   "cell_type": "code",
   "execution_count": null,
   "id": "e42518d6-cc3d-4986-9b22-47aa88f75be4",
   "metadata": {},
   "outputs": [],
   "source": [
    "test_data"
   ]
  },
  {
   "cell_type": "code",
   "execution_count": null,
   "id": "3aead879-6e67-452f-9011-62d02c105319",
   "metadata": {},
   "outputs": [],
   "source": [
    "def move_value(move):\n",
    "    return {\n",
    "        \"X\": 1,\n",
    "        \"Y\": 2,\n",
    "        \"Z\": 3,\n",
    "    }[move]"
   ]
  },
  {
   "cell_type": "code",
   "execution_count": null,
   "id": "359b962e-a0f9-4b78-bc44-b749edc50347",
   "metadata": {},
   "outputs": [],
   "source": [
    "def score(adv_move, my_move):\n",
    "    round_value = {\n",
    "        (\"A\", \"X\"): 3,\n",
    "        (\"A\", \"Y\"): 6,\n",
    "        (\"A\", \"Z\"): 0,\n",
    "        (\"B\", \"X\"): 0,\n",
    "        (\"B\", \"Y\"): 3,\n",
    "        (\"B\", \"Z\"): 6,\n",
    "        (\"C\", \"X\"): 6,\n",
    "        (\"C\", \"Y\"): 0,\n",
    "        (\"C\", \"Z\"): 3,\n",
    "    }[(adv_move, my_move)]\n",
    "    return move_value(my_move) + round_value\n",
    "    "
   ]
  },
  {
   "cell_type": "code",
   "execution_count": null,
   "id": "a1b928c3-a727-47f3-af6a-6c9530c6bda8",
   "metadata": {},
   "outputs": [],
   "source": [
    "def d2_1(data):\n",
    "    total = 0\n",
    "    for adv_move, my_move in data:\n",
    "        total += score(adv_move, my_move)\n",
    "    return total"
   ]
  },
  {
   "cell_type": "code",
   "execution_count": null,
   "id": "b39e60eb-646d-45ce-9762-54ebe96604a2",
   "metadata": {},
   "outputs": [],
   "source": [
    "d2_1(test_data)"
   ]
  },
  {
   "cell_type": "code",
   "execution_count": null,
   "id": "8705099e-8153-401a-b27b-55d9c9290460",
   "metadata": {},
   "outputs": [],
   "source": [
    "d2_1(data)"
   ]
  },
  {
   "cell_type": "markdown",
   "id": "16b9efe3-8042-445b-824c-3fc0bec32b93",
   "metadata": {
    "tags": []
   },
   "source": [
    " ## Part Two\n",
    "\n",
    "The Elf finishes helping with the tent and sneaks back over to you. \"Anyway, the second column says how the round needs to end: X means you need to lose, Y means you need to end the round in a draw, and Z means you need to win. Good luck!\"\n",
    "\n",
    "The total score is still calculated in the same way, but now you need to figure out what shape to choose so the round ends as indicated. The example above now goes like this:\n",
    "\n",
    "    In the first round, your opponent will choose Rock (A), and you need the round to end in a draw (Y), so you also choose Rock. This gives you a score of 1 + 3 = 4.\n",
    "    In the second round, your opponent will choose Paper (B), and you choose Rock so you lose (X) with a score of 1 + 0 = 1.\n",
    "    In the third round, you will defeat your opponent's Scissors with Rock for a score of 1 + 6 = 7.\n",
    "\n",
    "Now that you're correctly decrypting the ultra top secret strategy guide, you would get a total score of 12.\n",
    "\n",
    "Following the Elf's instructions for the second column, what would your total score be if everything goes exactly according to your strategy guide?\n",
    "\n"
   ]
  },
  {
   "cell_type": "code",
   "execution_count": null,
   "id": "e8f50d59-9830-4bad-aadf-c1b5ec0448c9",
   "metadata": {},
   "outputs": [],
   "source": [
    "def move_value_2(move):\n",
    "    return {\n",
    "        \"A\": 1,\n",
    "        \"B\": 2,\n",
    "        \"C\": 3,\n",
    "    }[move]\n",
    "\n",
    "def move_to_play(adv_move, my_goal):\n",
    "    return {\n",
    "        (\"A\", \"X\"): \"C\",\n",
    "        (\"A\", \"Y\"): \"A\",\n",
    "        (\"A\", \"Z\"): \"B\",\n",
    "        (\"B\", \"X\"): \"A\",\n",
    "        (\"B\", \"Y\"): \"B\",\n",
    "        (\"B\", \"Z\"): \"C\",\n",
    "        (\"C\", \"X\"): \"B\",\n",
    "        (\"C\", \"Y\"): \"C\",\n",
    "        (\"C\", \"Z\"): \"A\",\n",
    "    }[(adv_move, my_goal)]\n",
    "\n",
    "def score_2(adv_move, my_goal):\n",
    "    my_move = move_to_play(adv_move, my_goal)\n",
    "    round_value = {\n",
    "        (\"A\", \"A\"): 3,\n",
    "        (\"A\", \"B\"): 6,\n",
    "        (\"A\", \"C\"): 0,\n",
    "        (\"B\", \"A\"): 0,\n",
    "        (\"B\", \"B\"): 3,\n",
    "        (\"B\", \"C\"): 6,\n",
    "        (\"C\", \"A\"): 6,\n",
    "        (\"C\", \"B\"): 0,\n",
    "        (\"C\", \"C\"): 3,\n",
    "    }[(adv_move, my_move)]\n",
    "    return move_value_2(my_move) + round_value"
   ]
  },
  {
   "cell_type": "code",
   "execution_count": null,
   "id": "87c1fbb6-6780-4e86-9769-e6c918b609b2",
   "metadata": {},
   "outputs": [],
   "source": [
    "def d2_2(data):\n",
    "    total = 0\n",
    "    for adv_move, my_goal in data:\n",
    "        total += score_2(adv_move, my_goal)\n",
    "    return total"
   ]
  },
  {
   "cell_type": "code",
   "execution_count": null,
   "id": "151559a9-5de4-40c1-8204-294afefe8a93",
   "metadata": {},
   "outputs": [],
   "source": [
    "d2_2(test_data)"
   ]
  },
  {
   "cell_type": "code",
   "execution_count": null,
   "id": "94fb820e-eed2-4feb-a702-b71036af05f1",
   "metadata": {},
   "outputs": [],
   "source": [
    "d2_2(data)"
   ]
  },
  {
   "cell_type": "markdown",
   "id": "bfa9082f-3b93-4cbc-8b68-f89c11f792d6",
   "metadata": {
    "tags": []
   },
   "source": [
    "# Day 3: Rucksack Reorganization\n",
    "\n",
    "One Elf has the important job of loading all of the rucksacks with supplies for the jungle journey. Unfortunately, that Elf didn't quite follow the packing instructions, and so a few items now need to be rearranged.\n",
    "\n",
    "Each rucksack has two large compartments. All items of a given type are meant to go into exactly one of the two compartments. The Elf that did the packing failed to follow this rule for exactly one item type per rucksack.\n",
    "\n",
    "The Elves have made a list of all of the items currently in each rucksack (your puzzle input), but they need your help finding the errors. Every item type is identified by a single lowercase or uppercase letter (that is, a and A refer to different types of items).\n",
    "\n",
    "The list of items for each rucksack is given as characters all on a single line. A given rucksack always has the same number of items in each of its two compartments, so the first half of the characters represent items in the first compartment, while the second half of the characters represent items in the second compartment.\n",
    "\n",
    "For example, suppose you have the following list of contents from six rucksacks:\n",
    "\n",
    "```\n",
    "vJrwpWtwJgWrhcsFMMfFFhFp\n",
    "jqHRNqRjqzjGDLGLrsFMfFZSrLrFZsSL\n",
    "PmmdzqPrVvPwwTWBwg\n",
    "wMqvLMZHhHMvwLHjbvcjnnSBnvTQFn\n",
    "ttgJtRGJQctTZtZT\n",
    "CrZsJsPPZsGzwwsLwLmpwMDw\n",
    "```\n",
    "\n",
    "- The first rucksack contains the items vJrwpWtwJgWrhcsFMMfFFhFp, which means its first compartment contains the items vJrwpWtwJgWr, while the second compartment contains the items hcsFMMfFFhFp. The only item type that appears in both compartments is lowercase p.\n",
    "- The second rucksack's compartments contain jqHRNqRjqzjGDLGL and rsFMfFZSrLrFZsSL. The only item type that appears in both compartments is uppercase L.\n",
    "- The third rucksack's compartments contain PmmdzqPrV and vPwwTWBwg; the only common item type is uppercase P.\n",
    "- The fourth rucksack's compartments only share item type v.\n",
    "- The fifth rucksack's compartments only share item type t.\n",
    "- The sixth rucksack's compartments only share item type s.\n",
    "\n",
    "To help prioritize item rearrangement, every item type can be converted to a priority:\n",
    "\n",
    "- Lowercase item types a through z have priorities 1 through 26.\n",
    "- Uppercase item types A through Z have priorities 27 through 52.\n",
    "\n",
    "In the above example, the priority of the item type that appears in both compartments of each rucksack is 16 (p), 38 (L), 42 (P), 22 (v), 20 (t), and 19 (s); the sum of these is 157.\n",
    "\n",
    "Find the item type that appears in both compartments of each rucksack. What is the sum of the priorities of those item types?"
   ]
  },
  {
   "cell_type": "code",
   "execution_count": null,
   "id": "daa916d0-797d-4629-807a-364a714997c3",
   "metadata": {},
   "outputs": [],
   "source": [
    "parse = as_list(str, sep=\"\\n\")"
   ]
  },
  {
   "cell_type": "code",
   "execution_count": null,
   "id": "abbcfa3b-b5af-42fb-a9ef-3af7ce2635ba",
   "metadata": {},
   "outputs": [],
   "source": [
    "test_data = parse(\"\"\"\n",
    "vJrwpWtwJgWrhcsFMMfFFhFp\n",
    "jqHRNqRjqzjGDLGLrsFMfFZSrLrFZsSL\n",
    "PmmdzqPrVvPwwTWBwg\n",
    "wMqvLMZHhHMvwLHjbvcjnnSBnvTQFn\n",
    "ttgJtRGJQctTZtZT\n",
    "CrZsJsPPZsGzwwsLwLmpwMDw \n",
    "\"\"\")\n",
    "\n",
    "data = parse(dayfile(3))"
   ]
  },
  {
   "cell_type": "code",
   "execution_count": null,
   "id": "1872ea85-9819-48c8-8a13-aa7b034894e6",
   "metadata": {},
   "outputs": [],
   "source": [
    "def priority(letter):\n",
    "    order = \"abcdefghijklmnopqrstuvwxyzABCDEFGHIJKLMNOPQRSTUVWXYZ\"\n",
    "    return order.index(letter) + 1"
   ]
  },
  {
   "cell_type": "code",
   "execution_count": null,
   "id": "ea942ad0-ec26-4e4d-80a3-4b9e24ba652f",
   "metadata": {},
   "outputs": [],
   "source": [
    "def split_rucksacks(entry):\n",
    "    size = len(entry) // 2\n",
    "    return (entry[:size], entry[size:])"
   ]
  },
  {
   "cell_type": "code",
   "execution_count": null,
   "id": "b8841f49-a9db-4874-a638-cac977c35a29",
   "metadata": {},
   "outputs": [],
   "source": [
    "def d3_1(data):\n",
    "    res = 0\n",
    "    for sack in data:\n",
    "        sack1, sack2 = split_rucksacks(sack)\n",
    "        common = list(set(sack1).intersection(set(sack2)))[0]\n",
    "        res += priority(common) \n",
    "    return res"
   ]
  },
  {
   "cell_type": "code",
   "execution_count": null,
   "id": "c07aa707-cf76-45af-9eb6-c4f9edf9d3ac",
   "metadata": {},
   "outputs": [],
   "source": [
    "d3_1(test_data)"
   ]
  },
  {
   "cell_type": "code",
   "execution_count": null,
   "id": "388297ae-7e92-46a7-a211-150dd75a544e",
   "metadata": {},
   "outputs": [],
   "source": [
    "d3_1(data)"
   ]
  },
  {
   "cell_type": "markdown",
   "id": "ab497015-e343-44aa-9384-c617f1ab9787",
   "metadata": {},
   "source": [
    "## Part Two\n",
    "\n",
    "As you finish identifying the misplaced items, the Elves come to you with another issue.\n",
    "\n",
    "For safety, the Elves are divided into groups of three. Every Elf carries a badge that identifies their group. For efficiency, within each group of three Elves, the badge is the only item type carried by all three Elves. That is, if a group's badge is item type B, then all three Elves will have item type B somewhere in their rucksack, and at most two of the Elves will be carrying any other item type.\n",
    "\n",
    "The problem is that someone forgot to put this year's updated authenticity sticker on the badges. All of the badges need to be pulled out of the rucksacks so the new authenticity stickers can be attached.\n",
    "\n",
    "Additionally, nobody wrote down which item type corresponds to each group's badges. The only way to tell which item type is the right one is by finding the one item type that is common between all three Elves in each group.\n",
    "\n",
    "Every set of three lines in your list corresponds to a single group, but each group can have a different badge item type. So, in the above example, the first group's rucksacks are the first three lines:\n",
    "\n",
    "```\n",
    "vJrwpWtwJgWrhcsFMMfFFhFp\n",
    "jqHRNqRjqzjGDLGLrsFMfFZSrLrFZsSL\n",
    "PmmdzqPrVvPwwTWBwg\n",
    "```\n",
    "\n",
    "And the second group's rucksacks are the next three lines:\n",
    "\n",
    "```\n",
    "wMqvLMZHhHMvwLHjbvcjnnSBnvTQFn\n",
    "ttgJtRGJQctTZtZT\n",
    "CrZsJsPPZsGzwwsLwLmpwMDw\n",
    "```\n",
    "\n",
    "In the first group, the only item type that appears in all three rucksacks is lowercase r; this must be their badges. In the second group, their badge item type must be Z.\n",
    "\n",
    "Priorities for these items must still be found to organize the sticker attachment efforts: here, they are 18 (r) for the first group and 52 (Z) for the second group. The sum of these is 70.\n",
    "\n",
    "Find the item type that corresponds to the badges of each three-Elf group. What is the sum of the priorities of those item types?"
   ]
  },
  {
   "cell_type": "code",
   "execution_count": null,
   "id": "175768ee-2e62-49ae-b60d-aa1fdc3dcece",
   "metadata": {},
   "outputs": [],
   "source": [
    "def d2_2(data):\n",
    "    res = 0\n",
    "    for i in range(0, len(data), 3):\n",
    "        sack1 = set(data[i])\n",
    "        sack2 = set(data[i+1])\n",
    "        sack3 = set(data[i+2])\n",
    "        common = list(sack1.intersection(sack2).intersection(sack3))[0]\n",
    "        res += priority(common) \n",
    "    return res"
   ]
  },
  {
   "cell_type": "code",
   "execution_count": null,
   "id": "a1c4f6f1-9608-49a9-a2bb-5054691c6ffe",
   "metadata": {},
   "outputs": [],
   "source": [
    "d2_2(test_data)"
   ]
  },
  {
   "cell_type": "code",
   "execution_count": null,
   "id": "01f2262e-fcf2-4806-862b-1414b40ade14",
   "metadata": {},
   "outputs": [],
   "source": [
    "d2_2(data)"
   ]
  },
  {
   "cell_type": "markdown",
   "id": "756db69c-3825-4d35-8722-8bc27ffedc16",
   "metadata": {
    "tags": []
   },
   "source": [
    "# Day 4: Camp Cleanup\n",
    "\n",
    "Space needs to be cleared before the last supplies can be unloaded from the ships, and so several Elves have been assigned the job of cleaning up sections of the camp. Every section has a unique ID number, and each Elf is assigned a range of section IDs.\n",
    "\n",
    "However, as some of the Elves compare their section assignments with each other, they've noticed that many of the assignments overlap. To try to quickly find overlaps and reduce duplicated effort, the Elves pair up and make a big list of the section assignments for each pair (your puzzle input).\n",
    "\n",
    "For example, consider the following list of section assignment pairs:\n",
    "\n",
    "```\n",
    "2-4,6-8\n",
    "2-3,4-5\n",
    "5-7,7-9\n",
    "2-8,3-7\n",
    "6-6,4-6\n",
    "2-6,4-8\n",
    "```\n",
    "\n",
    "For the first few pairs, this list means:\n",
    "\n",
    "- Within the first pair of Elves, the first Elf was assigned sections 2-4 (sections 2, 3, and 4), while the second Elf was assigned sections 6-8 (sections 6, 7, 8).\n",
    "- The Elves in the second pair were each assigned two sections.\n",
    "- The Elves in the third pair were each assigned three sections: one got sections 5, 6, and 7, while the other also got 7, plus 8 and 9.\n",
    "\n",
    "This example list uses single-digit section IDs to make it easier to draw; your actual list might contain larger numbers. Visually, these pairs of section assignments look like this:\n",
    "\n",
    "```\n",
    ".234.....  2-4\n",
    ".....678.  6-8\n",
    "\n",
    ".23......  2-3\n",
    "...45....  4-5\n",
    "\n",
    "....567..  5-7\n",
    "......789  7-9\n",
    "\n",
    ".2345678.  2-8\n",
    "..34567..  3-7\n",
    "\n",
    ".....6...  6-6\n",
    "...456...  4-6\n",
    "\n",
    ".23456...  2-6\n",
    "...45678.  4-8\n",
    "```\n",
    "\n",
    "Some of the pairs have noticed that one of their assignments fully contains the other. For example, 2-8 fully contains 3-7, and 6-6 is fully contained by 4-6. In pairs where one assignment fully contains the other, one Elf in the pair would be exclusively cleaning sections their partner will already be cleaning, so these seem like the most in need of reconsideration. In this example, there are 2 such pairs.\n",
    "\n",
    "In how many assignment pairs does one range fully contain the other?"
   ]
  },
  {
   "cell_type": "code",
   "execution_count": null,
   "id": "938e9eb2-ac85-4307-89c3-518153ba9d52",
   "metadata": {},
   "outputs": [],
   "source": [
    "def assign_pairs(entry):\n",
    "    splitted = entry.split(\",\")\n",
    "    entry1 = [int(i) for i in splitted[0].split(\"-\")]\n",
    "    entry2 = [int(i) for i in splitted[1].split(\"-\")]\n",
    "    return (entry1, entry2)\n",
    "parse = as_list(assign_pairs, sep=\"\\n\")"
   ]
  },
  {
   "cell_type": "code",
   "execution_count": null,
   "id": "3f92c941-8236-46ec-bfcd-f7177c19bb46",
   "metadata": {},
   "outputs": [],
   "source": [
    "test_data = parse(\"\"\"\n",
    "2-4,6-8\n",
    "2-3,4-5\n",
    "5-7,7-9\n",
    "2-8,3-7\n",
    "6-6,4-6\n",
    "2-6,4-8\n",
    "\"\"\")\n",
    "\n",
    "data = parse(dayfile(4))"
   ]
  },
  {
   "cell_type": "code",
   "execution_count": null,
   "id": "2dc512b9-369a-40fd-be71-c69ae4078221",
   "metadata": {},
   "outputs": [],
   "source": [
    "def d4_1(data):\n",
    "    count = 0\n",
    "    for pair1, pair2 in data:\n",
    "        if ((pair1[0] <= pair2[0] and pair1[1] >= pair2[1]) or\n",
    "            (pair1[0] >= pair2[0] and pair1[1] <= pair2[1])):\n",
    "            count += 1\n",
    "    return count"
   ]
  },
  {
   "cell_type": "code",
   "execution_count": null,
   "id": "1ca62616-e1c8-4a8e-b400-17c5b0fd8bc6",
   "metadata": {},
   "outputs": [],
   "source": [
    "d4_1(test_data)"
   ]
  },
  {
   "cell_type": "code",
   "execution_count": null,
   "id": "21c961cc-6f83-4d44-ab83-edd540b9421a",
   "metadata": {},
   "outputs": [],
   "source": [
    "d4_1(data)"
   ]
  },
  {
   "cell_type": "markdown",
   "id": "53a3706c-2472-4617-9b66-ebc09c77f5a9",
   "metadata": {
    "tags": []
   },
   "source": [
    "## Part Two\n",
    "\n",
    "It seems like there is still quite a bit of duplicate work planned. Instead, the Elves would like to know the number of pairs that overlap at all.\n",
    "\n",
    "In the above example, the first two pairs (2-4,6-8 and 2-3,4-5) don't overlap, while the remaining four pairs (5-7,7-9, 2-8,3-7, 6-6,4-6, and 2-6,4-8) do overlap:\n",
    "\n",
    "- 5-7,7-9 overlaps in a single section, 7.\n",
    "- 2-8,3-7 overlaps all of the sections 3 through 7.\n",
    "- 6-6,4-6 overlaps in a single section, 6.\n",
    "- 2-6,4-8 overlaps in sections 4, 5, and 6.\n",
    "\n",
    "So, in this example, the number of overlapping assignment pairs is 4."
   ]
  },
  {
   "cell_type": "code",
   "execution_count": null,
   "id": "0578cedf-1721-440e-9f41-c9fc820c6e08",
   "metadata": {},
   "outputs": [],
   "source": [
    "def d4_2(data):\n",
    "    count = 0\n",
    "    for pair1, pair2 in data:\n",
    "        if (   (pair1[0] <= pair2[0] and pair1[1] >= pair2[0])\n",
    "            or (pair1[0] >= pair2[0] and pair1[0] <= pair2[1])):\n",
    "            count += 1\n",
    "    return count"
   ]
  },
  {
   "cell_type": "code",
   "execution_count": null,
   "id": "9b41268c-88a0-457f-8dd2-58194ddbbdc7",
   "metadata": {},
   "outputs": [],
   "source": [
    "d4_2(test_data)"
   ]
  },
  {
   "cell_type": "code",
   "execution_count": null,
   "id": "4007911c-ce55-4de6-9896-7bef72de987a",
   "metadata": {},
   "outputs": [],
   "source": [
    "d4_2(data)"
   ]
  },
  {
   "cell_type": "markdown",
   "id": "4ac3ae73-169a-4762-84d1-c74f80322f18",
   "metadata": {
    "tags": []
   },
   "source": [
    "# Day 5: Supply Stacks\n",
    "\n",
    "The expedition can depart as soon as the final supplies have been unloaded from the ships. Supplies are stored in stacks of marked crates, but because the needed supplies are buried under many other crates, the crates need to be rearranged.\n",
    "\n",
    "The ship has a giant cargo crane capable of moving crates between stacks. To ensure none of the crates get crushed or fall over, the crane operator will rearrange them in a series of carefully-planned steps. After the crates are rearranged, the desired crates will be at the top of each stack.\n",
    "\n",
    "The Elves don't want to interrupt the crane operator during this delicate procedure, but they forgot to ask her which crate will end up where, and they want to be ready to unload them as soon as possible so they can embark.\n",
    "\n",
    "They do, however, have a drawing of the starting stacks of crates and the rearrangement procedure (your puzzle input). For example:\n",
    "\n",
    "```\n",
    "    [D]    \n",
    "[N] [C]    \n",
    "[Z] [M] [P]\n",
    " 1   2   3 \n",
    "```\n",
    "\n",
    "move 1 from 2 to 1\n",
    "move 3 from 1 to 3\n",
    "move 2 from 2 to 1\n",
    "move 1 from 1 to 2\n",
    "\n",
    "In this example, there are three stacks of crates. Stack 1 contains two crates: crate Z is on the bottom, and crate N is on top. Stack 2 contains three crates; from bottom to top, they are crates M, C, and D. Finally, stack 3 contains a single crate, P.\n",
    "\n",
    "Then, the rearrangement procedure is given. In each step of the procedure, a quantity of crates is moved from one stack to a different stack. In the first step of the above rearrangement procedure, one crate is moved from stack 2 to stack 1, resulting in this configuration:\n",
    "\n",
    "```\n",
    "[D]        \n",
    "[N] [C]    \n",
    "[Z] [M] [P]\n",
    " 1   2   3 \n",
    "```\n",
    "\n",
    "In the second step, three crates are moved from stack 1 to stack 3. Crates are moved one at a time, so the first crate to be moved (D) ends up below the second and third crates:\n",
    "\n",
    "```\n",
    "        [Z]\n",
    "        [N]\n",
    "    [C] [D]\n",
    "    [M] [P]\n",
    " 1   2   3\n",
    "```\n",
    "\n",
    "Then, both crates are moved from stack 2 to stack 1. Again, because crates are moved one at a time, crate C ends up below crate M:\n",
    "\n",
    "```\n",
    "        [Z]\n",
    "        [N]\n",
    "[M]     [D]\n",
    "[C]     [P]\n",
    " 1   2   3\n",
    "```\n",
    "\n",
    "Finally, one crate is moved from stack 1 to stack 2:\n",
    "\n",
    "```\n",
    "        [Z]\n",
    "        [N]\n",
    "        [D]\n",
    "[C] [M] [P]\n",
    " 1   2   3\n",
    "```\n",
    "\n",
    "The Elves just need to know which crate will end up on top of each stack; in this example, the top crates are C in stack 1, M in stack 2, and Z in stack 3, so you should combine these together and give the Elves the message CMZ.\n",
    "\n",
    "After the rearrangement procedure completes, what crate ends up on top of each stack?"
   ]
  },
  {
   "cell_type": "code",
   "execution_count": null,
   "id": "02f27849-dbdc-4727-808d-6e73a4410598",
   "metadata": {},
   "outputs": [],
   "source": [
    "def parse(data):\n",
    "    splitted = data.split(\"\\n\\n\")\n",
    "    \n",
    "    hanoi = splitted[0]\n",
    "    moves = splitted[1].strip()\n",
    "    \n",
    "    def hanoi_parser(data):\n",
    "        entries = data.split(\"\\n\")\n",
    "        nb_columns = (len(entries[0]) + 1) // 4\n",
    "        \n",
    "        columns = []\n",
    "        for _ in range(nb_columns):\n",
    "            columns.append([])\n",
    "        \n",
    "        def parse_entry(entry):\n",
    "            for i in range(nb_columns):\n",
    "                index = 1 + i * 4\n",
    "                value =  entry[index]\n",
    "                if value != \" \":\n",
    "                    columns[i].append(entry[index])\n",
    "        [parse_entry(entry) for entry in data.split(\"\\n\")[:-1]] \n",
    "        return columns\n",
    "    \n",
    "    def move_parser(data):\n",
    "        def entry_parser(entry):\n",
    "            splitted = entry.split(\" \")\n",
    "            return (int(splitted[1]), int(splitted[3]), int(splitted[5]))\n",
    "        return [entry_parser(entry) for entry in data.split(\"\\n\")]\n",
    "\n",
    "    return hanoi_parser(hanoi), move_parser(moves) "
   ]
  },
  {
   "cell_type": "code",
   "execution_count": null,
   "id": "83525450-af51-435f-be09-ad08cd78f918",
   "metadata": {},
   "outputs": [],
   "source": [
    "test_data = parse(\"\"\"    [D]    \n",
    "[N] [C]    \n",
    "[Z] [M] [P]\n",
    " 1   2   3 \n",
    "\n",
    "move 1 from 2 to 1\n",
    "move 3 from 1 to 3\n",
    "move 2 from 2 to 1\n",
    "move 1 from 1 to 2\n",
    "\"\"\")\n",
    "\n",
    "data = parse(dayfile(5))"
   ]
  },
  {
   "cell_type": "code",
   "execution_count": null,
   "id": "885154fa-c4dd-4065-aa86-9606eb8c45dd",
   "metadata": {},
   "outputs": [],
   "source": [
    "def d5_1(data):\n",
    "    state = [elem.copy() for elem in data[0]]\n",
    "    moves = data[1]\n",
    "    for nb, frm, to in moves:\n",
    "        for _ in range(nb):\n",
    "            state[to -1].insert(0, state[frm -1].pop(0))\n",
    "    return \"\".join([col[0] for col in state])"
   ]
  },
  {
   "cell_type": "code",
   "execution_count": null,
   "id": "cb4132da-5399-46fd-ba9b-50cf4bc68942",
   "metadata": {},
   "outputs": [],
   "source": [
    "d5_1(test_data)"
   ]
  },
  {
   "cell_type": "code",
   "execution_count": null,
   "id": "be8a2e1b-80a0-43bb-b06a-c0320e9be92c",
   "metadata": {},
   "outputs": [],
   "source": [
    "d5_1(data)"
   ]
  },
  {
   "cell_type": "markdown",
   "id": "b08150fa-2237-45e2-8c06-1496b213d1e7",
   "metadata": {
    "tags": []
   },
   "source": [
    "## Part Two\n",
    "\n",
    "As you watch the crane operator expertly rearrange the crates, you notice the process isn't following your prediction.\n",
    "\n",
    "Some mud was covering the writing on the side of the crane, and you quickly wipe it away. The crane isn't a CrateMover 9000 - it's a CrateMover 9001.\n",
    "\n",
    "The CrateMover 9001 is notable for many new and exciting features: air conditioning, leather seats, an extra cup holder, and the ability to pick up and move multiple crates at once.\n",
    "\n",
    "Again considering the example above, the crates begin in the same configuration:\n",
    "\n",
    "```\n",
    "    [D]    \n",
    "[N] [C]    \n",
    "[Z] [M] [P]\n",
    " 1   2   3 \n",
    "```\n",
    "\n",
    "Moving a single crate from stack 2 to stack 1 behaves the same as before:\n",
    "\n",
    "```\n",
    "[D]        \n",
    "[N] [C]    \n",
    "[Z] [M] [P]\n",
    " 1   2   3 \n",
    "```\n",
    "\n",
    "However, the action of moving three crates from stack 1 to stack 3 means that those three moved crates stay in the same order, resulting in this new configuration:\n",
    "\n",
    "```\n",
    "        [D]\n",
    "        [N]\n",
    "    [C] [Z]\n",
    "    [M] [P]\n",
    " 1   2   3\n",
    "```\n",
    "\n",
    "Next, as both crates are moved from stack 2 to stack 1, they retain their order as well:\n",
    "\n",
    "```\n",
    "        [D]\n",
    "        [N]\n",
    "[C]     [Z]\n",
    "[M]     [P]\n",
    " 1   2   3\n",
    "```\n",
    "\n",
    "Finally, a single crate is still moved from stack 1 to stack 2, but now it's crate C that gets moved:\n",
    "\n",
    "```\n",
    "        [D]\n",
    "        [N]\n",
    "        [Z]\n",
    "[M] [C] [P]\n",
    " 1   2   3\n",
    "```\n",
    "\n",
    "In this example, the CrateMover 9001 has put the crates in a totally different order: MCD.\n",
    "\n",
    "Before the rearrangement process finishes, update your simulation so that the Elves know where they should stand to be ready to unload the final supplies. After the rearrangement procedure completes, what crate ends up on top of each stack?"
   ]
  },
  {
   "cell_type": "code",
   "execution_count": null,
   "id": "dce23cee-0ec1-4709-afba-2aecd8992bd1",
   "metadata": {},
   "outputs": [],
   "source": [
    "def d5_2(data):\n",
    "    state = [elem.copy() for elem in data[0]]\n",
    "    moves = data[1]\n",
    "    for nb, frm, to in moves:\n",
    "        for i in range(nb-1, -1, -1):\n",
    "            state[to -1].insert(0, state[frm -1].pop(i))\n",
    "    return \"\".join([col[0] for col in state])"
   ]
  },
  {
   "cell_type": "code",
   "execution_count": null,
   "id": "b26767b8-a291-4129-8720-d148941074d5",
   "metadata": {},
   "outputs": [],
   "source": [
    "d5_2(test_data)"
   ]
  },
  {
   "cell_type": "code",
   "execution_count": null,
   "id": "f955a196-7ad5-4216-ba6f-bb9439647c2c",
   "metadata": {},
   "outputs": [],
   "source": [
    "d5_2(data)"
   ]
  },
  {
   "cell_type": "markdown",
   "id": "fluid-director",
   "metadata": {},
   "source": [
    "---"
   ]
  }
 ],
 "metadata": {
  "kernelspec": {
   "display_name": "Python 3 (ipykernel)",
   "language": "python",
   "name": "python3"
  },
  "language_info": {
   "codemirror_mode": {
    "name": "ipython",
    "version": 3
   },
   "file_extension": ".py",
   "mimetype": "text/x-python",
   "name": "python",
   "nbconvert_exporter": "python",
   "pygments_lexer": "ipython3",
   "version": "3.10.5"
  }
 },
 "nbformat": 4,
 "nbformat_minor": 5
}
