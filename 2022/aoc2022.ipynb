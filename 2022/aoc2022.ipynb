{
 "cells": [
  {
   "cell_type": "markdown",
   "id": "mechanical-chassis",
   "metadata": {},
   "source": [
    "# Advent of Code 2022\n",
    "https://adventofcode.com/2022"
   ]
  },
  {
   "cell_type": "markdown",
   "id": "catholic-munich",
   "metadata": {
    "jp-MarkdownHeadingCollapsed": true,
    "tags": []
   },
   "source": [
    "# Utils"
   ]
  },
  {
   "cell_type": "markdown",
   "id": "defined-masters",
   "metadata": {
    "tags": []
   },
   "source": [
    "## Imports"
   ]
  },
  {
   "cell_type": "code",
   "execution_count": null,
   "id": "piano-laugh",
   "metadata": {},
   "outputs": [],
   "source": [
    "import operator\n",
    "import sys\n",
    "from functools import reduce\n",
    "from io import StringIO\n",
    "\n",
    "\n",
    "import numpy as np"
   ]
  },
  {
   "cell_type": "markdown",
   "id": "compound-geometry",
   "metadata": {
    "tags": []
   },
   "source": [
    "## Parsing utilities"
   ]
  },
  {
   "cell_type": "code",
   "execution_count": null,
   "id": "republican-revelation",
   "metadata": {},
   "outputs": [],
   "source": [
    "def dayfile(daynum):\n",
    "    with open(f\"input{daynum}\") as f:\n",
    "        data = f.read().rstrip()\n",
    "    return data"
   ]
  },
  {
   "cell_type": "code",
   "execution_count": null,
   "id": "charged-marsh",
   "metadata": {},
   "outputs": [],
   "source": [
    "def as_list(element_parser, **args):\n",
    "    return lambda data: [element_parser(e) for e in data.split(**args) if e != \"\"]"
   ]
  },
  {
   "cell_type": "code",
   "execution_count": null,
   "id": "considerable-buying",
   "metadata": {},
   "outputs": [],
   "source": [
    "def as_matrix(element_parser, row_sep=\"\\n\", col_sep=\"\"):\n",
    "    def _inner(data):\n",
    "        data = data.strip()\n",
    "        res = []\n",
    "        for e in data.split(row_sep):\n",
    "            if col_sep == \"\":\n",
    "                e = list(e)\n",
    "            else:\n",
    "                e = e.split(col_sep)\n",
    "            res.append([element_parser(i.strip()) for i in e if i != \"\"])\n",
    "        return np.asarray(res)\n",
    "    return _inner"
   ]
  },
  {
   "cell_type": "code",
   "execution_count": null,
   "id": "living-cricket",
   "metadata": {},
   "outputs": [],
   "source": [
    "def as_pair(element_parser, sep=\",\"):\n",
    "    def _inner(entry):\n",
    "        a, b = entry.split(sep)\n",
    "        return (element_parser(a), element_parser(b))\n",
    "    return _inner"
   ]
  },
  {
   "cell_type": "markdown",
   "id": "seventh-singles",
   "metadata": {
    "jp-MarkdownHeadingCollapsed": true,
    "tags": []
   },
   "source": [
    "# Day 1: Sonar Sweep\n",
    "\n",
    "Santa's reindeer typically eat regular reindeer food, but they need a lot of magical energy to deliver presents on Christmas. For that, their favorite snack is a special type of star fruit that only grows deep in the jungle. The Elves have brought you on their annual expedition to the grove where the fruit grows.\n",
    "\n",
    "To supply enough magical energy, the expedition needs to retrieve a minimum of fifty stars by December 25th. Although the Elves assure you that the grove has plenty of fruit, you decide to grab any fruit you see along the way, just in case.\n",
    "\n",
    "Collect stars by solving puzzles. Two puzzles will be made available on each day in the Advent calendar; the second puzzle is unlocked when you complete the first. Each puzzle grants one star. Good luck!\n",
    "\n",
    "The jungle must be too overgrown and difficult to navigate in vehicles or access from the air; the Elves' expedition traditionally goes on foot. As your boats approach land, the Elves begin taking inventory of their supplies. One important consideration is food - in particular, the number of Calories each Elf is carrying (your puzzle input).\n",
    "\n",
    "The Elves take turns writing down the number of Calories contained by the various meals, snacks, rations, etc. that they've brought with them, one item per line. Each Elf separates their own inventory from the previous Elf's inventory (if any) by a blank line.\n",
    "\n",
    "For example, suppose the Elves finish writing their items' Calories and end up with the following list:\n",
    "\n",
    "```\n",
    "1000\n",
    "2000\n",
    "3000\n",
    "\n",
    "4000\n",
    "\n",
    "5000\n",
    "6000\n",
    "\n",
    "7000\n",
    "8000\n",
    "9000\n",
    "\n",
    "10000\n",
    "```\n",
    "\n",
    "This list represents the Calories of the food carried by five Elves:\n",
    "\n",
    "- The first Elf is carrying food with 1000, 2000, and 3000 Calories, a total of 6000 Calories.\n",
    "- The second Elf is carrying one food item with 4000 Calories.\n",
    "- The third Elf is carrying food with 5000 and 6000 Calories, a total of 11000 Calories.\n",
    "- The fourth Elf is carrying food with 7000, 8000, and 9000 Calories, a total of 24000 Calories.\n",
    "- The fifth Elf is carrying one food item with 10000 Calories.\n",
    "\n",
    "In case the Elves get hungry and need extra snacks, they need to know which Elf to ask: they'd like to know how many Calories are being carried by the Elf carrying the most Calories. In the example above, this is 24000 (carried by the fourth Elf).\n",
    "\n",
    "Find the Elf carrying the most Calories. How many total Calories is that Elf carrying?"
   ]
  },
  {
   "cell_type": "code",
   "execution_count": null,
   "id": "angry-hughes",
   "metadata": {},
   "outputs": [],
   "source": [
    "def parse(text):\n",
    "    text = text.strip()\n",
    "    res = []\n",
    "    current = []\n",
    "    res.append(current)\n",
    "    for line in text.split(\"\\n\"):\n",
    "        if line == \"\":\n",
    "            current = []\n",
    "            res.append(current)\n",
    "        else:\n",
    "            current.append(int(line))\n",
    "    return res"
   ]
  },
  {
   "cell_type": "code",
   "execution_count": null,
   "id": "straight-economy",
   "metadata": {},
   "outputs": [],
   "source": [
    "test_data = parse(\"\"\"\n",
    "1000\n",
    "2000\n",
    "3000\n",
    "\n",
    "4000\n",
    "\n",
    "5000\n",
    "6000\n",
    "\n",
    "7000\n",
    "8000\n",
    "9000\n",
    "\n",
    "10000\n",
    "\"\"\")\n",
    "\n",
    "data = parse(dayfile(1))"
   ]
  },
  {
   "cell_type": "code",
   "execution_count": null,
   "id": "b14b141c-37f2-4d84-a069-71432dbe5d26",
   "metadata": {},
   "outputs": [],
   "source": [
    "test_data"
   ]
  },
  {
   "cell_type": "code",
   "execution_count": null,
   "id": "junior-emerald",
   "metadata": {},
   "outputs": [],
   "source": [
    "def d1_1(data):\n",
    "    agg_data = [sum(entry) for entry in data]\n",
    "    return max(agg_data)"
   ]
  },
  {
   "cell_type": "code",
   "execution_count": null,
   "id": "right-voltage",
   "metadata": {},
   "outputs": [],
   "source": [
    "d1_1(test_data)"
   ]
  },
  {
   "cell_type": "code",
   "execution_count": null,
   "id": "ongoing-yugoslavia",
   "metadata": {},
   "outputs": [],
   "source": [
    "d1_1(data)"
   ]
  },
  {
   "cell_type": "markdown",
   "id": "loaded-shepherd",
   "metadata": {},
   "source": [
    "## Part 2\n",
    "\n",
    "By the time you calculate the answer to the Elves' question, they've already realized that the Elf carrying the most Calories of food might eventually run out of snacks.\n",
    "\n",
    "To avoid this unacceptable situation, the Elves would instead like to know the total Calories carried by the top three Elves carrying the most Calories. That way, even if one of those Elves runs out of snacks, they still have two backups.\n",
    "\n",
    "In the example above, the top three Elves are the fourth Elf (with 24000 Calories), then the third Elf (with 11000 Calories), then the fifth Elf (with 10000 Calories). The sum of the Calories carried by these three elves is 45000.\n",
    "\n",
    "Find the top three Elves carrying the most Calories. How many Calories are those Elves carrying in total?"
   ]
  },
  {
   "cell_type": "code",
   "execution_count": null,
   "id": "8ebc3442-c3fd-457a-a52e-a0ffad78d5e1",
   "metadata": {},
   "outputs": [],
   "source": [
    "def d1_2(data):\n",
    "    agg_data = [sum(entry) for entry in data]\n",
    "    return sum(list(reversed(sorted(agg_data)))[0:3])"
   ]
  },
  {
   "cell_type": "code",
   "execution_count": null,
   "id": "pursuant-vehicle",
   "metadata": {},
   "outputs": [],
   "source": [
    "d1_2(test_data)"
   ]
  },
  {
   "cell_type": "code",
   "execution_count": null,
   "id": "progressive-difference",
   "metadata": {},
   "outputs": [],
   "source": [
    "d1_2(data)"
   ]
  },
  {
   "cell_type": "markdown",
   "id": "5cc18f14-04b4-4fa4-87b8-7c62d236c9f1",
   "metadata": {
    "jp-MarkdownHeadingCollapsed": true,
    "tags": []
   },
   "source": [
    "# Day 2: Rock Paper Scissors\n",
    "\n",
    "The Elves begin to set up camp on the beach. To decide whose tent gets to be closest to the snack storage, a giant Rock Paper Scissors tournament is already in progress.\n",
    "\n",
    "Rock Paper Scissors is a game between two players. Each game contains many rounds; in each round, the players each simultaneously choose one of Rock, Paper, or Scissors using a hand shape. Then, a winner for that round is selected: Rock defeats Scissors, Scissors defeats Paper, and Paper defeats Rock. If both players choose the same shape, the round instead ends in a draw.\n",
    "\n",
    "Appreciative of your help yesterday, one Elf gives you an encrypted strategy guide (your puzzle input) that they say will be sure to help you win. \"The first column is what your opponent is going to play: A for Rock, B for Paper, and C for Scissors. The second column--\" Suddenly, the Elf is called away to help with someone's tent.\n",
    "\n",
    "The second column, you reason, must be what you should play in response: X for Rock, Y for Paper, and Z for Scissors. Winning every time would be suspicious, so the responses must have been carefully chosen.\n",
    "\n",
    "The winner of the whole tournament is the player with the highest score. Your total score is the sum of your scores for each round. The score for a single round is the score for the shape you selected (1 for Rock, 2 for Paper, and 3 for Scissors) plus the score for the outcome of the round (0 if you lost, 3 if the round was a draw, and 6 if you won).\n",
    "\n",
    "Since you can't be sure if the Elf is trying to help you or trick you, you should calculate the score you would get if you were to follow the strategy guide.\n",
    "\n",
    "For example, suppose you were given the following strategy guide:\n",
    "\n",
    "```\n",
    "A Y\n",
    "B X\n",
    "C Z\n",
    "```\n",
    "\n",
    "This strategy guide predicts and recommends the following:\n",
    "\n",
    "- In the first round, your opponent will choose Rock (A), and you should choose Paper (Y). This ends in a win for you with a score of 8 (2 because you chose Paper + 6 because you won).\n",
    "- In the second round, your opponent will choose Paper (B), and you should choose Rock (X). This ends in a loss for you with a score of 1 (1 + 0).\n",
    "- The third round is a draw with both players choosing Scissors, giving you a score of 3 + 3 = 6.\n",
    "\n",
    "In this example, if you were to follow the strategy guide, you would get a total score of 15 (8 + 1 + 6).\n",
    "\n",
    "What would your total score be if everything goes exactly according to your strategy guide?\n"
   ]
  },
  {
   "cell_type": "code",
   "execution_count": null,
   "id": "035e60ec-1f7a-49e9-8c31-ca9fac2b28d8",
   "metadata": {},
   "outputs": [],
   "source": [
    "parse = as_list(as_pair(str, \" \"), sep=\"\\n\")"
   ]
  },
  {
   "cell_type": "code",
   "execution_count": null,
   "id": "241ab1a1-ad3f-4ea0-a3b6-88f13843191e",
   "metadata": {},
   "outputs": [],
   "source": [
    "test_data = parse(\"\"\"\n",
    "A Y\n",
    "B X\n",
    "C Z\n",
    "\"\"\")\n",
    "\n",
    "data = parse(dayfile(2))"
   ]
  },
  {
   "cell_type": "code",
   "execution_count": null,
   "id": "e42518d6-cc3d-4986-9b22-47aa88f75be4",
   "metadata": {},
   "outputs": [],
   "source": [
    "test_data"
   ]
  },
  {
   "cell_type": "code",
   "execution_count": null,
   "id": "3aead879-6e67-452f-9011-62d02c105319",
   "metadata": {},
   "outputs": [],
   "source": [
    "def move_value(move):\n",
    "    return {\n",
    "        \"X\": 1,\n",
    "        \"Y\": 2,\n",
    "        \"Z\": 3,\n",
    "    }[move]"
   ]
  },
  {
   "cell_type": "code",
   "execution_count": null,
   "id": "359b962e-a0f9-4b78-bc44-b749edc50347",
   "metadata": {},
   "outputs": [],
   "source": [
    "def score(adv_move, my_move):\n",
    "    round_value = {\n",
    "        (\"A\", \"X\"): 3,\n",
    "        (\"A\", \"Y\"): 6,\n",
    "        (\"A\", \"Z\"): 0,\n",
    "        (\"B\", \"X\"): 0,\n",
    "        (\"B\", \"Y\"): 3,\n",
    "        (\"B\", \"Z\"): 6,\n",
    "        (\"C\", \"X\"): 6,\n",
    "        (\"C\", \"Y\"): 0,\n",
    "        (\"C\", \"Z\"): 3,\n",
    "    }[(adv_move, my_move)]\n",
    "    return move_value(my_move) + round_value\n",
    "    "
   ]
  },
  {
   "cell_type": "code",
   "execution_count": null,
   "id": "a1b928c3-a727-47f3-af6a-6c9530c6bda8",
   "metadata": {},
   "outputs": [],
   "source": [
    "def d2_1(data):\n",
    "    total = 0\n",
    "    for adv_move, my_move in data:\n",
    "        total += score(adv_move, my_move)\n",
    "    return total"
   ]
  },
  {
   "cell_type": "code",
   "execution_count": null,
   "id": "b39e60eb-646d-45ce-9762-54ebe96604a2",
   "metadata": {},
   "outputs": [],
   "source": [
    "d2_1(test_data)"
   ]
  },
  {
   "cell_type": "code",
   "execution_count": null,
   "id": "8705099e-8153-401a-b27b-55d9c9290460",
   "metadata": {},
   "outputs": [],
   "source": [
    "d2_1(data)"
   ]
  },
  {
   "cell_type": "code",
   "execution_count": null,
   "id": "e8f50d59-9830-4bad-aadf-c1b5ec0448c9",
   "metadata": {},
   "outputs": [],
   "source": [
    "def move_value_2(move):\n",
    "    return {\n",
    "        \"A\": 1,\n",
    "        \"B\": 2,\n",
    "        \"C\": 3,\n",
    "    }[move]\n",
    "\n",
    "def move_to_play(adv_move, my_goal):\n",
    "    return {\n",
    "        (\"A\", \"X\"): \"C\",\n",
    "        (\"A\", \"Y\"): \"A\",\n",
    "        (\"A\", \"Z\"): \"B\",\n",
    "        (\"B\", \"X\"): \"A\",\n",
    "        (\"B\", \"Y\"): \"B\",\n",
    "        (\"B\", \"Z\"): \"C\",\n",
    "        (\"C\", \"X\"): \"B\",\n",
    "        (\"C\", \"Y\"): \"C\",\n",
    "        (\"C\", \"Z\"): \"A\",\n",
    "    }[(adv_move, my_goal)]\n",
    "\n",
    "def score_2(adv_move, my_goal):\n",
    "    my_move = move_to_play(adv_move, my_goal)\n",
    "    round_value = {\n",
    "        (\"A\", \"A\"): 3,\n",
    "        (\"A\", \"B\"): 6,\n",
    "        (\"A\", \"C\"): 0,\n",
    "        (\"B\", \"A\"): 0,\n",
    "        (\"B\", \"B\"): 3,\n",
    "        (\"B\", \"C\"): 6,\n",
    "        (\"C\", \"A\"): 6,\n",
    "        (\"C\", \"B\"): 0,\n",
    "        (\"C\", \"C\"): 3,\n",
    "    }[(adv_move, my_move)]\n",
    "    return move_value_2(my_move) + round_value"
   ]
  },
  {
   "cell_type": "code",
   "execution_count": null,
   "id": "87c1fbb6-6780-4e86-9769-e6c918b609b2",
   "metadata": {},
   "outputs": [],
   "source": [
    "def d2_2(data):\n",
    "    total = 0\n",
    "    for adv_move, my_goal in data:\n",
    "        total += score_2(adv_move, my_goal)\n",
    "    return total"
   ]
  },
  {
   "cell_type": "code",
   "execution_count": null,
   "id": "151559a9-5de4-40c1-8204-294afefe8a93",
   "metadata": {},
   "outputs": [],
   "source": [
    "d2_2(test_data)"
   ]
  },
  {
   "cell_type": "code",
   "execution_count": null,
   "id": "94fb820e-eed2-4feb-a702-b71036af05f1",
   "metadata": {},
   "outputs": [],
   "source": [
    "d2_2(data)"
   ]
  },
  {
   "cell_type": "markdown",
   "id": "fluid-director",
   "metadata": {},
   "source": [
    "---"
   ]
  }
 ],
 "metadata": {
  "kernelspec": {
   "display_name": "Python 3 (ipykernel)",
   "language": "python",
   "name": "python3"
  },
  "language_info": {
   "codemirror_mode": {
    "name": "ipython",
    "version": 3
   },
   "file_extension": ".py",
   "mimetype": "text/x-python",
   "name": "python",
   "nbconvert_exporter": "python",
   "pygments_lexer": "ipython3",
   "version": "3.10.5"
  }
 },
 "nbformat": 4,
 "nbformat_minor": 5
}
