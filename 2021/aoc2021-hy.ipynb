{
 "cells": [
  {
   "cell_type": "markdown",
   "id": "cf378ecf-5e9f-4b14-a2cf-ebb47bf65a77",
   "metadata": {},
   "source": [
    "# Advent of Code 2021\n",
    "https://adventofcode.com/2021"
   ]
  },
  {
   "cell_type": "markdown",
   "id": "complimentary-plain",
   "metadata": {},
   "source": [
    "# Utils"
   ]
  },
  {
   "cell_type": "markdown",
   "id": "44c917d5-1cd6-4164-8cc1-46816771459e",
   "metadata": {},
   "source": [
    "## Imports"
   ]
  },
  {
   "cell_type": "code",
   "execution_count": null,
   "id": "successful-treaty",
   "metadata": {},
   "outputs": [],
   "source": [
    "(require [hy.contrib.walk[let]])\n",
    "\n",
    "(import numpy)"
   ]
  },
  {
   "cell_type": "markdown",
   "id": "89f42de5-95f9-4f9c-954c-09b77cd3648b",
   "metadata": {},
   "source": [
    "## Parsing Utilities"
   ]
  },
  {
   "cell_type": "code",
   "execution_count": null,
   "id": "wooden-pavilion",
   "metadata": {},
   "outputs": [],
   "source": [
    "(defn as-list-of [elem-parse-func [sep None]]\n",
    "      (print sep)\n",
    "      (fn [data]\n",
    "          (->> data\n",
    "              ((fn [x] (.split x :sep sep)))\n",
    "              (map (fn [x] (.strip x)))\n",
    "              (filter (fn [x] (!= x \"\")))\n",
    "              (map elem-parse-func)\n",
    "              list)))"
   ]
  },
  {
   "cell_type": "code",
   "execution_count": null,
   "id": "talented-twelve",
   "metadata": {},
   "outputs": [],
   "source": [
    "(defn dayfile [daynum]\n",
    "      (with [f (open f\"input{daynum}\")]\n",
    "            (-> f\n",
    "                .read\n",
    "                .rstrip)))"
   ]
  },
  {
   "cell_type": "markdown",
   "id": "automotive-leonard",
   "metadata": {
    "tags": []
   },
   "source": [
    "# Day 1: Sonar Sweep\n",
    "\n",
    "As the submarine drops below the surface of the ocean, it automatically performs a sonar sweep of the nearby sea floor. On a small screen, the sonar sweep report (your puzzle input) appears: each line is a measurement of the sea floor depth as the sweep looks further and further away from the submarine.\n",
    "\n",
    "For example, suppose you had the following report:\n",
    "\n",
    "```\n",
    "199\n",
    "200\n",
    "208\n",
    "210\n",
    "200\n",
    "207\n",
    "240\n",
    "269\n",
    "260\n",
    "263\n",
    "```\n",
    "\n",
    "This report indicates that, scanning outward from the submarine, the sonar sweep found depths of 199, 200, 208, 210, and so on.\n",
    "\n",
    "The first order of business is to figure out how quickly the depth increases, just so you know what you're dealing with - you never know if the keys will get carried into deeper water by an ocean current or a fish or something.\n",
    "\n",
    "To do this, count the number of times a depth measurement increases from the previous measurement. (There is no measurement before the first measurement.) In the example above, the changes are as follows:\n",
    "\n",
    "```\n",
    "199 (N/A - no previous measurement)\n",
    "200 (increased)\n",
    "208 (increased)\n",
    "210 (increased)\n",
    "200 (decreased)\n",
    "207 (increased)\n",
    "240 (increased)\n",
    "269 (increased)\n",
    "260 (decreased)\n",
    "263 (increased)\n",
    "```\n",
    "\n",
    "In this example, there are 7 measurements that are larger than the previous measurement.\n",
    "\n",
    "How many measurements are larger than the previous measurement?"
   ]
  },
  {
   "cell_type": "code",
   "execution_count": null,
   "id": "southeast-adams",
   "metadata": {},
   "outputs": [],
   "source": [
    "(setv parse (as-list-of int))"
   ]
  },
  {
   "cell_type": "code",
   "execution_count": null,
   "id": "beneficial-liquid",
   "metadata": {},
   "outputs": [],
   "source": [
    "(setv test-data (parse \"\n",
    "                       199\n",
    "                       200\n",
    "                       208\n",
    "                       210\n",
    "                       200\n",
    "                       207\n",
    "                       240\n",
    "                       269\n",
    "                       260\n",
    "                       263\n",
    "                       \")\n",
    "      \n",
    "      data (parse (dayfile 1)))"
   ]
  },
  {
   "cell_type": "code",
   "execution_count": null,
   "id": "exciting-strike",
   "metadata": {},
   "outputs": [],
   "source": [
    "(defn d1_n [window data]\n",
    "      (let [count 0\n",
    "            prev (sum (cut data 0 window))\n",
    "            limit (+ (- (len data) window) 1)]\n",
    "\n",
    "        (for [i (range 1 limit)]\n",
    "             (let [e (sum (cut data i (+ i window)))]\n",
    "               (if (> e prev)\n",
    "                   (setv count (inc count)))\n",
    "               (setv prev e)))\n",
    "\n",
    "        count))"
   ]
  },
  {
   "cell_type": "code",
   "execution_count": null,
   "id": "internal-federation",
   "metadata": {},
   "outputs": [],
   "source": [
    "(defn d1_1 [data]\n",
    "      (d1_n 1 data))"
   ]
  },
  {
   "cell_type": "code",
   "execution_count": null,
   "id": "intensive-abuse",
   "metadata": {},
   "outputs": [],
   "source": [
    "(d1_1 test-data)"
   ]
  },
  {
   "cell_type": "code",
   "execution_count": null,
   "id": "sticky-repair",
   "metadata": {},
   "outputs": [],
   "source": [
    "(d1_1 data)"
   ]
  },
  {
   "cell_type": "markdown",
   "id": "related-masters",
   "metadata": {
    "tags": []
   },
   "source": [
    "## Part 2\n",
    "\n",
    "Considering every single measurement isn't as useful as you expected: there's just too much noise in the data.\n",
    "\n",
    "Instead, consider sums of a three-measurement sliding window. Again considering the above example:\n",
    "\n",
    "```\n",
    "199  A      \n",
    "200  A B    \n",
    "208  A B C  \n",
    "210    B C D\n",
    "200  E   C D\n",
    "207  E F   D\n",
    "240  E F G  \n",
    "269    F G H\n",
    "260      G H\n",
    "263        H\n",
    "```\n",
    "\n",
    "Start by comparing the first and second three-measurement windows. The measurements in the first window are marked A (199, 200, 208); their sum is 199 + 200 + 208 = 607. The second window is marked B (200, 208, 210); its sum is 618. The sum of measurements in the second window is larger than the sum of the first, so this first comparison increased.\n",
    "\n",
    "Your goal now is to count the number of times the sum of measurements in this sliding window increases from the previous sum. So, compare A with B, then compare B with C, then C with D, and so on. Stop when there aren't enough measurements left to create a new three-measurement sum.\n",
    "\n",
    "In the above example, the sum of each three-measurement window is as follows:\n",
    "\n",
    "```\n",
    "A: 607 (N/A - no previous sum)\n",
    "B: 618 (increased)\n",
    "C: 618 (no change)\n",
    "D: 617 (decreased)\n",
    "E: 647 (increased)\n",
    "F: 716 (increased)\n",
    "G: 769 (increased)\n",
    "H: 792 (increased)\n",
    "```\n",
    "\n",
    "In this example, there are 5 sums that are larger than the previous sum.\n",
    "\n",
    "Consider sums of a three-measurement sliding window. How many sums are larger than the previous sum?"
   ]
  },
  {
   "cell_type": "code",
   "execution_count": null,
   "id": "sticky-probability",
   "metadata": {},
   "outputs": [],
   "source": [
    "(defn d1_2 [data]\n",
    "      (d1_n 3 data))"
   ]
  },
  {
   "cell_type": "code",
   "execution_count": null,
   "id": "widespread-matthew",
   "metadata": {},
   "outputs": [],
   "source": [
    "(d1_2 test-data)"
   ]
  },
  {
   "cell_type": "code",
   "execution_count": null,
   "id": "russian-temple",
   "metadata": {},
   "outputs": [],
   "source": [
    "(d1_2 data)"
   ]
  },
  {
   "cell_type": "markdown",
   "id": "b37bf3cb-4159-488e-ab96-a4a8a974c392",
   "metadata": {},
   "source": [
    "# Day 2: Dive\n",
    "\n",
    "Now, you need to figure out how to pilot this thing.\n",
    "\n",
    "It seems like the submarine can take a series of commands like forward 1, down 2, or up 3:\n",
    "\n",
    "- forward X increases the horizontal position by X units.\n",
    "- down X increases the depth by X units.\n",
    "- up X decreases the depth by X units.\n",
    "\n",
    "Note that since you're on a submarine, down and up affect your depth, and so they have the opposite result of what you might expect.\n",
    "\n",
    "The submarine seems to already have a planned course (your puzzle input). You should probably figure out where it's going. For example:\n",
    "\n",
    "```\n",
    "forward 5\n",
    "down 5\n",
    "forward 8\n",
    "up 3\n",
    "down 8\n",
    "forward 2\n",
    "```\n",
    "\n",
    "Your horizontal position and depth both start at 0. The steps above would then modify them as follows:\n",
    "\n",
    "- forward 5 adds 5 to your horizontal position, a total of 5.\n",
    "- down 5 adds 5 to your depth, resulting in a value of 5.\n",
    "- forward 8 adds 8 to your horizontal position, a total of 13.\n",
    "- up 3 decreases your depth by 3, resulting in a value of 2.\n",
    "- down 8 adds 8 to your depth, resulting in a value of 10.\n",
    "- forward 2 adds 2 to your horizontal position, a total of 15.\n",
    "\n",
    "After following these instructions, you would have a horizontal position of 15 and a depth of 10. (Multiplying these together produces 150.)\n",
    "\n",
    "Calculate the horizontal position and depth you would have after following the planned course. What do you get if you multiply your final horizontal position by your final depth?"
   ]
  },
  {
   "cell_type": "code",
   "execution_count": null,
   "id": "e2ff3ea5-67b8-4640-9562-0efcaa5a1a5a",
   "metadata": {},
   "outputs": [],
   "source": [
    "(defn move [entry]\n",
    "      (let [[direction amount] (.split entry \" \")] \n",
    "        [direction (int amount)]))"
   ]
  },
  {
   "cell_type": "code",
   "execution_count": null,
   "id": "d8d8f532-2284-4b5f-9545-d1f80f43a94b",
   "metadata": {},
   "outputs": [],
   "source": [
    "(setv parse (as-list-of move\n",
    "                        :sep \"\\n\"))"
   ]
  },
  {
   "cell_type": "code",
   "execution_count": null,
   "id": "1f344340-37cf-4742-b16c-5d1a0c6f2802",
   "metadata": {},
   "outputs": [],
   "source": [
    "(setv test_data (parse \"\n",
    "                       forward 5\n",
    "                       down 5\n",
    "                       forward 8\n",
    "                       up 3\n",
    "                       down 8\n",
    "                       forward 2\n",
    "                       \")\n",
    "      \n",
    "      data (parse (dayfile 2)))"
   ]
  },
  {
   "cell_type": "code",
   "execution_count": null,
   "id": "d81cd3d7-e164-4660-b2e3-89a5fd6690e4",
   "metadata": {},
   "outputs": [],
   "source": [
    "(defn d2_1 [moves]\n",
    "      (let [pos 0\n",
    "            depth 0]\n",
    "        (for [[direction amount] moves]\n",
    "             (cond [(= direction \"forward\") (setv pos   (+ pos amount))]\n",
    "                   [(= direction \"down\")    (setv depth (+ depth amount))]\n",
    "                   [(= direction \"up\")      (setv depth (- depth amount))]))\n",
    "        (* pos depth)))"
   ]
  },
  {
   "cell_type": "code",
   "execution_count": null,
   "id": "94c338f3-889e-4293-b82d-853cc860a64d",
   "metadata": {},
   "outputs": [],
   "source": [
    "(d2_1 test_data)"
   ]
  },
  {
   "cell_type": "code",
   "execution_count": null,
   "id": "ea2469c7-ffda-49f9-8fe6-ca6baad44d1a",
   "metadata": {},
   "outputs": [],
   "source": [
    "(d2_1 data)"
   ]
  },
  {
   "cell_type": "markdown",
   "id": "4a6475a3-35f2-4e03-b5f8-cf27cfb7376a",
   "metadata": {},
   "source": [
    "## Part 2\n",
    "\n",
    "Based on your calculations, the planned course doesn't seem to make any sense. You find the submarine manual and discover that the process is actually slightly more complicated.\n",
    "\n",
    "In addition to horizontal position and depth, you'll also need to track a third value, aim, which also starts at 0. The commands also mean something entirely different than you first thought:\n",
    "\n",
    "- down X increases your aim by X units.\n",
    "- up X decreases your aim by X units.\n",
    "- forward X does two things:\n",
    "    - It increases your horizontal position by X units.\n",
    "    - It increases your depth by your aim multiplied by X.\n",
    "\n",
    "Again note that since you're on a submarine, down and up do the opposite of what you might expect: \"down\" means aiming in the positive direction.\n",
    "\n",
    "Now, the above example does something different:\n",
    "\n",
    "- forward 5 adds 5 to your horizontal position, a total of 5. Because your aim is 0, your depth does not change.\n",
    "- down 5 adds 5 to your aim, resulting in a value of 5.\n",
    "- forward 8 adds 8 to your horizontal position, a total of 13. Because your aim is 5, your depth increases by 8*5=40.\n",
    "- up 3 decreases your aim by 3, resulting in a value of 2.\n",
    "- down 8 adds 8 to your aim, resulting in a value of 10.\n",
    "- forward 2 adds 2 to your horizontal position, a total of 15. Because your aim is 10, your depth increases by 2*10=20 to a total of 60.\n",
    "\n",
    "After following these new instructions, you would have a horizontal position of 15 and a depth of 60. (Multiplying these produces 900.)\n",
    "\n",
    "Using this new interpretation of the commands, calculate the horizontal position and depth you would have after following the planned course. What do you get if you multiply your final horizontal position by your final depth?"
   ]
  },
  {
   "cell_type": "code",
   "execution_count": null,
   "id": "e4e96396",
   "metadata": {},
   "outputs": [],
   "source": [
    "(defn d2_2 [moves]\n",
    "      (let [pos 0\n",
    "            depth 0\n",
    "            aim 0]\n",
    "        (for [[direction amount] moves]\n",
    "              (cond [(= direction \"forward\") (setv pos   (+ pos amount))]\n",
    "                    [(= direction \"down\")    (setv depth (+ depth amount))]\n",
    "                    [(= direction \"up\")      (setv depth (- depth amount))]))\n",
    "        (* pos depth))) )"
   ]
  },
  {
   "cell_type": "code",
   "execution_count": null,
   "id": "b65cdac7-f939-43e9-a56c-26de11ad0bf6",
   "metadata": {},
   "outputs": [],
   "source": [
    "(d2_2 test_data)"
   ]
  },
  {
   "cell_type": "code",
   "execution_count": null,
   "id": "b0dfb36e-b1a3-4d85-b501-9663cffe7f34",
   "metadata": {},
   "outputs": [],
   "source": [
    "(d2_2 data)"
   ]
  },
  {
   "cell_type": "markdown",
   "id": "93edf596-63a7-4c70-9fec-b796f1fc7e94",
   "metadata": {},
   "source": [
    "# Day 3: Binary Diagnostic\n",
    "\n",
    "The submarine has been making some odd creaking noises, so you ask it to produce a diagnostic report just in case.\n",
    "\n",
    "The diagnostic report (your puzzle input) consists of a list of binary numbers which, when decoded properly, can tell you many useful things about the conditions of the submarine. The first parameter to check is the power consumption.\n",
    "\n",
    "You need to use the binary numbers in the diagnostic report to generate two new binary numbers (called the gamma rate and the epsilon rate). The power consumption can then be found by multiplying the gamma rate by the epsilon rate.\n",
    "\n",
    "Each bit in the gamma rate can be determined by finding the most common bit in the corresponding position of all numbers in the diagnostic report. For example, given the following diagnostic report:\n",
    "\n",
    "```\n",
    "00100\n",
    "11110\n",
    "10110\n",
    "10111\n",
    "10101\n",
    "01111\n",
    "00111\n",
    "11100\n",
    "10000\n",
    "11001\n",
    "00010\n",
    "01010\n",
    "```\n",
    "\n",
    "Considering only the first bit of each number, there are five 0 bits and seven 1 bits. Since the most common bit is 1, the first bit of the gamma rate is 1.\n",
    "\n",
    "The most common second bit of the numbers in the diagnostic report is 0, so the second bit of the gamma rate is 0.\n",
    "\n",
    "The most common value of the third, fourth, and fifth bits are 1, 1, and 0, respectively, and so the final three bits of the gamma rate are 110.\n",
    "\n",
    "So, the gamma rate is the binary number 10110, or 22 in decimal.\n",
    "\n",
    "The epsilon rate is calculated in a similar way; rather than use the most common bit, the least common bit from each position is used. So, the epsilon rate is 01001, or 9 in decimal. Multiplying the gamma rate (22) by the epsilon rate (9) produces the power consumption, 198.\n",
    "\n",
    "Use the binary numbers in your diagnostic report to calculate the gamma rate and epsilon rate, then multiply them together. What is the power consumption of the submarine? (Be sure to represent your answer in decimal, not binary.)"
   ]
  },
  {
   "cell_type": "code",
   "execution_count": null,
   "id": "3df8ab7e-90b2-4b90-b088-0aeae4017060",
   "metadata": {},
   "outputs": [],
   "source": []
  }
 ],
 "metadata": {
  "kernelspec": {
   "display_name": "Calysto Hy",
   "language": "hy",
   "name": "calysto_hy"
  },
  "language_info": {
   "codemirror_mode": {
    "name": "scheme"
   },
   "mimetype": "text/x-hylang",
   "name": "hy",
   "pygments_lexer": "lisp"
  }
 },
 "nbformat": 4,
 "nbformat_minor": 5
}
