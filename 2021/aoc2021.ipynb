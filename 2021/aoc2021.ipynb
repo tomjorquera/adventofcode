{
 "cells": [
  {
   "cell_type": "markdown",
   "id": "acceptable-backing",
   "metadata": {},
   "source": [
    "# Advent of Code 2021\n",
    "https://adventofcode.com/2021"
   ]
  },
  {
   "cell_type": "markdown",
   "id": "alert-playlist",
   "metadata": {},
   "source": [
    "# Utils"
   ]
  },
  {
   "cell_type": "markdown",
   "id": "scenic-desire",
   "metadata": {},
   "source": [
    "## Imports"
   ]
  },
  {
   "cell_type": "code",
   "execution_count": null,
   "id": "particular-garage",
   "metadata": {},
   "outputs": [],
   "source": [
    "import sys\n",
    "\n",
    "import numpy as np"
   ]
  },
  {
   "cell_type": "markdown",
   "id": "formal-range",
   "metadata": {},
   "source": [
    "## Parsing utilities"
   ]
  },
  {
   "cell_type": "code",
   "execution_count": null,
   "id": "organic-partnership",
   "metadata": {},
   "outputs": [],
   "source": [
    "def dayfile(daynum):\n",
    "    with open(f\"input{daynum}\") as f:\n",
    "        data = f.read().rstrip()\n",
    "    return data"
   ]
  },
  {
   "cell_type": "code",
   "execution_count": null,
   "id": "fluid-skiing",
   "metadata": {},
   "outputs": [],
   "source": [
    "def as_list(element_parser, **args):\n",
    "    return lambda data: [element_parser(e) for e in data.split(**args) if e != \"\"]"
   ]
  },
  {
   "cell_type": "code",
   "execution_count": null,
   "id": "growing-meter",
   "metadata": {},
   "outputs": [],
   "source": [
    "def as_matrix(element_parser, row_sep=\"\\n\", col_sep=''):\n",
    "    def _inner(data):\n",
    "        data = data.strip()\n",
    "        res = []\n",
    "        for e in data.split(row_sep):\n",
    "            if col_sep == '':\n",
    "                e = list(e)\n",
    "            else:\n",
    "                e = e.split(col_sep)\n",
    "            res.append([element_parser(i.strip()) for i in e if i != ''])\n",
    "        return np.asarray(res)\n",
    "    return _inner"
   ]
  },
  {
   "cell_type": "markdown",
   "id": "senior-specialist",
   "metadata": {},
   "source": [
    "# Day 1: Sonar Sweep\n",
    "\n",
    "As the submarine drops below the surface of the ocean, it automatically performs a sonar sweep of the nearby sea floor. On a small screen, the sonar sweep report (your puzzle input) appears: each line is a measurement of the sea floor depth as the sweep looks further and further away from the submarine.\n",
    "\n",
    "For example, suppose you had the following report:\n",
    "\n",
    "```\n",
    "199\n",
    "200\n",
    "208\n",
    "210\n",
    "200\n",
    "207\n",
    "240\n",
    "269\n",
    "260\n",
    "263\n",
    "```\n",
    "\n",
    "This report indicates that, scanning outward from the submarine, the sonar sweep found depths of 199, 200, 208, 210, and so on.\n",
    "\n",
    "The first order of business is to figure out how quickly the depth increases, just so you know what you're dealing with - you never know if the keys will get carried into deeper water by an ocean current or a fish or something.\n",
    "\n",
    "To do this, count the number of times a depth measurement increases from the previous measurement. (There is no measurement before the first measurement.) In the example above, the changes are as follows:\n",
    "\n",
    "```\n",
    "199 (N/A - no previous measurement)\n",
    "200 (increased)\n",
    "208 (increased)\n",
    "210 (increased)\n",
    "200 (decreased)\n",
    "207 (increased)\n",
    "240 (increased)\n",
    "269 (increased)\n",
    "260 (decreased)\n",
    "263 (increased)\n",
    "```\n",
    "\n",
    "In this example, there are 7 measurements that are larger than the previous measurement.\n",
    "\n",
    "How many measurements are larger than the previous measurement?"
   ]
  },
  {
   "cell_type": "code",
   "execution_count": null,
   "id": "separated-mauritius",
   "metadata": {},
   "outputs": [],
   "source": [
    "parse = as_list(int)"
   ]
  },
  {
   "cell_type": "code",
   "execution_count": null,
   "id": "broken-coverage",
   "metadata": {},
   "outputs": [],
   "source": [
    "test_data = parse(\"\"\"\n",
    "199\n",
    "200\n",
    "208\n",
    "210\n",
    "200\n",
    "207\n",
    "240\n",
    "269\n",
    "260\n",
    "263\n",
    "\"\"\")\n",
    "\n",
    "data = parse(dayfile(1))"
   ]
  },
  {
   "cell_type": "code",
   "execution_count": null,
   "id": "closing-thomson",
   "metadata": {},
   "outputs": [],
   "source": [
    "def d1_1(data):\n",
    "    count = 0\n",
    "    prev = data[0]\n",
    "    for e in data[1:]:\n",
    "        if e > prev:\n",
    "            count += 1\n",
    "        prev = e\n",
    "    return count"
   ]
  },
  {
   "cell_type": "code",
   "execution_count": null,
   "id": "nuclear-victoria",
   "metadata": {},
   "outputs": [],
   "source": [
    "d1_1(test_data)"
   ]
  },
  {
   "cell_type": "code",
   "execution_count": null,
   "id": "normal-overall",
   "metadata": {},
   "outputs": [],
   "source": [
    "d1_1(data)"
   ]
  },
  {
   "cell_type": "markdown",
   "id": "monetary-daily",
   "metadata": {},
   "source": [
    "## Part 2\n",
    "\n",
    "Considering every single measurement isn't as useful as you expected: there's just too much noise in the data.\n",
    "\n",
    "Instead, consider sums of a three-measurement sliding window. Again considering the above example:\n",
    "\n",
    "```\n",
    "199  A      \n",
    "200  A B    \n",
    "208  A B C  \n",
    "210    B C D\n",
    "200  E   C D\n",
    "207  E F   D\n",
    "240  E F G  \n",
    "269    F G H\n",
    "260      G H\n",
    "263        H\n",
    "```\n",
    "\n",
    "Start by comparing the first and second three-measurement windows. The measurements in the first window are marked A (199, 200, 208); their sum is 199 + 200 + 208 = 607. The second window is marked B (200, 208, 210); its sum is 618. The sum of measurements in the second window is larger than the sum of the first, so this first comparison increased.\n",
    "\n",
    "Your goal now is to count the number of times the sum of measurements in this sliding window increases from the previous sum. So, compare A with B, then compare B with C, then C with D, and so on. Stop when there aren't enough measurements left to create a new three-measurement sum.\n",
    "\n",
    "In the above example, the sum of each three-measurement window is as follows:\n",
    "\n",
    "```\n",
    "A: 607 (N/A - no previous sum)\n",
    "B: 618 (increased)\n",
    "C: 618 (no change)\n",
    "D: 617 (decreased)\n",
    "E: 647 (increased)\n",
    "F: 716 (increased)\n",
    "G: 769 (increased)\n",
    "H: 792 (increased)\n",
    "```\n",
    "\n",
    "In this example, there are 5 sums that are larger than the previous sum.\n",
    "\n",
    "Consider sums of a three-measurement sliding window. How many sums are larger than the previous sum?"
   ]
  },
  {
   "cell_type": "code",
   "execution_count": null,
   "id": "successful-bangladesh",
   "metadata": {},
   "outputs": [],
   "source": [
    "def d1_2(data):\n",
    "    count = 0\n",
    "    prev = sum(data[0:3])\n",
    "    for i in range(1, len(data) - 2):\n",
    "        e = sum(data[i:(i + 3)])\n",
    "        if e > prev:\n",
    "            count += 1\n",
    "        prev = e\n",
    "    return count"
   ]
  },
  {
   "cell_type": "code",
   "execution_count": null,
   "id": "compressed-school",
   "metadata": {},
   "outputs": [],
   "source": [
    "d1_2(test_data)"
   ]
  },
  {
   "cell_type": "code",
   "execution_count": null,
   "id": "assumed-hamburg",
   "metadata": {},
   "outputs": [],
   "source": [
    "d1_2(data)"
   ]
  },
  {
   "cell_type": "markdown",
   "id": "north-hampton",
   "metadata": {},
   "source": [
    "## Generalizing"
   ]
  },
  {
   "cell_type": "code",
   "execution_count": null,
   "id": "raised-configuration",
   "metadata": {},
   "outputs": [],
   "source": [
    "def d1_n(data, sliding):\n",
    "    count = 0\n",
    "    prev = sum(data[0:sliding])\n",
    "    for i in range(1, len(data) - sliding + 1):\n",
    "        e = sum(data[i:(i + sliding)])\n",
    "        if e > prev:\n",
    "            count += 1\n",
    "        prev = e\n",
    "    return count"
   ]
  },
  {
   "cell_type": "code",
   "execution_count": null,
   "id": "fluid-style",
   "metadata": {},
   "outputs": [],
   "source": [
    "assert d1_1(data) == d1_n(data, sliding=1)\n",
    "assert d1_2(data) == d1_n(data, sliding=3)"
   ]
  },
  {
   "cell_type": "markdown",
   "id": "encouraging-coordination",
   "metadata": {},
   "source": [
    "# Day 2: Dive\n",
    "Now, you need to figure out how to pilot this thing.\n",
    "\n",
    "It seems like the submarine can take a series of commands like forward 1, down 2, or up 3:\n",
    "\n",
    "- forward X increases the horizontal position by X units.\n",
    "- down X increases the depth by X units.\n",
    "- up X decreases the depth by X units.\n",
    "\n",
    "Note that since you're on a submarine, down and up affect your depth, and so they have the opposite result of what you might expect.\n",
    "\n",
    "The submarine seems to already have a planned course (your puzzle input). You should probably figure out where it's going. For example:\n",
    "\n",
    "```\n",
    "forward 5\n",
    "down 5\n",
    "forward 8\n",
    "up 3\n",
    "down 8\n",
    "forward 2\n",
    "```\n",
    "\n",
    "Your horizontal position and depth both start at 0. The steps above would then modify them as follows:\n",
    "\n",
    "- forward 5 adds 5 to your horizontal position, a total of 5.\n",
    "- down 5 adds 5 to your depth, resulting in a value of 5.\n",
    "- forward 8 adds 8 to your horizontal position, a total of 13.\n",
    "- up 3 decreases your depth by 3, resulting in a value of 2.\n",
    "- down 8 adds 8 to your depth, resulting in a value of 10.\n",
    "- forward 2 adds 2 to your horizontal position, a total of 15.\n",
    "\n",
    "After following these instructions, you would have a horizontal position of 15 and a depth of 10. (Multiplying these together produces 150.)\n",
    "\n",
    "Calculate the horizontal position and depth you would have after following the planned course. What do you get if you multiply your final horizontal position by your final depth?"
   ]
  },
  {
   "cell_type": "code",
   "execution_count": null,
   "id": "relevant-trace",
   "metadata": {},
   "outputs": [],
   "source": [
    "\"test\".split\n"
   ]
  },
  {
   "cell_type": "code",
   "execution_count": null,
   "id": "applicable-globe",
   "metadata": {},
   "outputs": [],
   "source": [
    "\"test\".split"
   ]
  },
  {
   "cell_type": "code",
   "execution_count": null,
   "id": "sticky-alberta",
   "metadata": {},
   "outputs": [],
   "source": [
    "def move(entry):\n",
    "    direction, amount = entry.split(\" \")\n",
    "    amount = int(amount)\n",
    "    return direction, amount\n",
    "\n",
    "parse = as_list(move, sep=\"\\n\")"
   ]
  },
  {
   "cell_type": "code",
   "execution_count": null,
   "id": "altered-jackson",
   "metadata": {},
   "outputs": [],
   "source": [
    "test_data = parse(\"\"\"\n",
    "forward 5\n",
    "down 5\n",
    "forward 8\n",
    "up 3\n",
    "down 8\n",
    "forward 2\n",
    "\"\"\")\n",
    "\n",
    "data = parse(dayfile(2))"
   ]
  },
  {
   "cell_type": "code",
   "execution_count": null,
   "id": "vital-surveillance",
   "metadata": {},
   "outputs": [],
   "source": [
    "def d2_1(moves):\n",
    "    pos = 0\n",
    "    depth = 0\n",
    "    \n",
    "    for direction, amount in moves:\n",
    "       if direction == \"forward\":\n",
    "            pos += amount\n",
    "       if direction == \"down\":\n",
    "            depth += amount\n",
    "       if direction == \"up\":\n",
    "            depth -= amount\n",
    "    \n",
    "    return pos * depth"
   ]
  },
  {
   "cell_type": "code",
   "execution_count": null,
   "id": "african-andrews",
   "metadata": {},
   "outputs": [],
   "source": [
    "d2_1(test_data)"
   ]
  },
  {
   "cell_type": "code",
   "execution_count": null,
   "id": "metallic-concord",
   "metadata": {},
   "outputs": [],
   "source": [
    "d2_1(data)"
   ]
  },
  {
   "cell_type": "markdown",
   "id": "regular-entrance",
   "metadata": {},
   "source": [
    "## Part 2\n",
    "\n",
    "Based on your calculations, the planned course doesn't seem to make any sense. You find the submarine manual and discover that the process is actually slightly more complicated.\n",
    "\n",
    "In addition to horizontal position and depth, you'll also need to track a third value, aim, which also starts at 0. The commands also mean something entirely different than you first thought:\n",
    "\n",
    "- down X increases your aim by X units.\n",
    "- up X decreases your aim by X units.\n",
    "- forward X does two things:\n",
    "    - It increases your horizontal position by X units.\n",
    "    - It increases your depth by your aim multiplied by X.\n",
    "\n",
    "Again note that since you're on a submarine, down and up do the opposite of what you might expect: \"down\" means aiming in the positive direction.\n",
    "\n",
    "Now, the above example does something different:\n",
    "\n",
    "- forward 5 adds 5 to your horizontal position, a total of 5. Because your aim is 0, your depth does not change.\n",
    "- down 5 adds 5 to your aim, resulting in a value of 5.\n",
    "- forward 8 adds 8 to your horizontal position, a total of 13. Because your aim is 5, your depth increases by 8*5=40.\n",
    "- up 3 decreases your aim by 3, resulting in a value of 2.\n",
    "- down 8 adds 8 to your aim, resulting in a value of 10.\n",
    "- forward 2 adds 2 to your horizontal position, a total of 15. Because your aim is 10, your depth increases by 2*10=20 to a total of 60.\n",
    "\n",
    "After following these new instructions, you would have a horizontal position of 15 and a depth of 60. (Multiplying these produces 900.)\n",
    "\n",
    "Using this new interpretation of the commands, calculate the horizontal position and depth you would have after following the planned course. What do you get if you multiply your final horizontal position by your final depth?"
   ]
  },
  {
   "cell_type": "code",
   "execution_count": null,
   "id": "directed-diploma",
   "metadata": {},
   "outputs": [],
   "source": [
    "def d2_2(moves):\n",
    "    pos = 0\n",
    "    depth = 0\n",
    "    aim = 0\n",
    "    \n",
    "    for direction, amount in moves:\n",
    "       if direction == \"forward\":\n",
    "            pos += amount\n",
    "            depth += aim * amount\n",
    "       if direction == \"down\":\n",
    "            aim += amount\n",
    "       if direction == \"up\":\n",
    "            aim -= amount\n",
    "    \n",
    "    return pos * depth"
   ]
  },
  {
   "cell_type": "code",
   "execution_count": null,
   "id": "productive-stuart",
   "metadata": {},
   "outputs": [],
   "source": [
    "d2_2(test_data)"
   ]
  },
  {
   "cell_type": "code",
   "execution_count": null,
   "id": "still-tribune",
   "metadata": {},
   "outputs": [],
   "source": [
    "d2_2(data)"
   ]
  },
  {
   "cell_type": "markdown",
   "id": "armed-greenhouse",
   "metadata": {},
   "source": [
    "# Day 3: Binary Diagnostic\n",
    "\n",
    "The submarine has been making some odd creaking noises, so you ask it to produce a diagnostic report just in case.\n",
    "\n",
    "The diagnostic report (your puzzle input) consists of a list of binary numbers which, when decoded properly, can tell you many useful things about the conditions of the submarine. The first parameter to check is the power consumption.\n",
    "\n",
    "You need to use the binary numbers in the diagnostic report to generate two new binary numbers (called the gamma rate and the epsilon rate). The power consumption can then be found by multiplying the gamma rate by the epsilon rate.\n",
    "\n",
    "Each bit in the gamma rate can be determined by finding the most common bit in the corresponding position of all numbers in the diagnostic report. For example, given the following diagnostic report:\n",
    "\n",
    "```\n",
    "00100\n",
    "11110\n",
    "10110\n",
    "10111\n",
    "10101\n",
    "01111\n",
    "00111\n",
    "11100\n",
    "10000\n",
    "11001\n",
    "00010\n",
    "01010\n",
    "```\n",
    "\n",
    "Considering only the first bit of each number, there are five 0 bits and seven 1 bits. Since the most common bit is 1, the first bit of the gamma rate is 1.\n",
    "\n",
    "The most common second bit of the numbers in the diagnostic report is 0, so the second bit of the gamma rate is 0.\n",
    "\n",
    "The most common value of the third, fourth, and fifth bits are 1, 1, and 0, respectively, and so the final three bits of the gamma rate are 110.\n",
    "\n",
    "So, the gamma rate is the binary number 10110, or 22 in decimal.\n",
    "\n",
    "The epsilon rate is calculated in a similar way; rather than use the most common bit, the least common bit from each position is used. So, the epsilon rate is 01001, or 9 in decimal. Multiplying the gamma rate (22) by the epsilon rate (9) produces the power consumption, 198.\n",
    "\n",
    "Use the binary numbers in your diagnostic report to calculate the gamma rate and epsilon rate, then multiply them together. What is the power consumption of the submarine? (Be sure to represent your answer in decimal, not binary.)"
   ]
  },
  {
   "cell_type": "code",
   "execution_count": null,
   "id": "particular-spring",
   "metadata": {},
   "outputs": [],
   "source": [
    "parse = as_matrix(int)"
   ]
  },
  {
   "cell_type": "code",
   "execution_count": null,
   "id": "needed-quantity",
   "metadata": {},
   "outputs": [],
   "source": [
    "test_data = parse(\"\"\"\n",
    "00100\n",
    "11110\n",
    "10110\n",
    "10111\n",
    "10101\n",
    "01111\n",
    "00111\n",
    "11100\n",
    "10000\n",
    "11001\n",
    "00010\n",
    "01010\n",
    "\"\"\")\n",
    "\n",
    "data = parse(dayfile(3))"
   ]
  },
  {
   "cell_type": "code",
   "execution_count": null,
   "id": "diverse-account",
   "metadata": {},
   "outputs": [],
   "source": [
    "np.argmax(np.unique(test_data[:, 0], return_counts=True)[1])"
   ]
  },
  {
   "cell_type": "code",
   "execution_count": null,
   "id": "behind-employment",
   "metadata": {},
   "outputs": [],
   "source": [
    "test_data.shape"
   ]
  },
  {
   "cell_type": "code",
   "execution_count": null,
   "id": "quick-corps",
   "metadata": {},
   "outputs": [],
   "source": [
    "def d3_1(data):\n",
    "    counts = [0 for _ in data[0]]\n",
    "    gamma = []\n",
    "    epsilon = []\n",
    "    for i in range(data.shape[1]):\n",
    "        most_common =  np.argmax(np.unique(data[:, i], return_counts=True)[1])\n",
    "        least_common = 1 - most_common\n",
    "        gamma.append(str(most_common))\n",
    "        epsilon.append(str(least_common))\n",
    "    gamma_rate = int(f\"0b{''.join(gamma)}\", 2)\n",
    "    epsilon_rate = int(f\"0b{''.join(epsilon)}\", 2)\n",
    "    \n",
    "    return gamma_rate * epsilon_rate"
   ]
  },
  {
   "cell_type": "code",
   "execution_count": null,
   "id": "explicit-compatibility",
   "metadata": {},
   "outputs": [],
   "source": [
    "d3_1(test_data)"
   ]
  },
  {
   "cell_type": "code",
   "execution_count": null,
   "id": "vocal-trash",
   "metadata": {},
   "outputs": [],
   "source": [
    "d3_1(data)"
   ]
  },
  {
   "cell_type": "markdown",
   "id": "earned-demographic",
   "metadata": {},
   "source": [
    "## Part 2\n",
    "\n",
    "Next, you should verify the life support rating, which can be determined by multiplying the oxygen generator rating by the CO2 scrubber rating.\n",
    "\n",
    "Both the oxygen generator rating and the CO2 scrubber rating are values that can be found in your diagnostic report - finding them is the tricky part. Both values are located using a similar process that involves filtering out values until only one remains. Before searching for either rating value, start with the full list of binary numbers from your diagnostic report and consider just the first bit of those numbers. Then:\n",
    "\n",
    "- Keep only numbers selected by the bit criteria for the type of rating value for which you are searching. Discard numbers which do not match the bit criteria.\n",
    "- If you only have one number left, stop; this is the rating value for which you are searching.\n",
    "- Otherwise, repeat the process, considering the next bit to the right.\n",
    "\n",
    "The bit criteria depends on which type of rating value you want to find:\n",
    "\n",
    "- To find oxygen generator rating, determine the most common value (0 or 1) in the current bit position, and keep only numbers with that bit in that position. If 0 and 1 are equally common, keep values with a 1 in the position being considered.\n",
    "- To find CO2 scrubber rating, determine the least common value (0 or 1) in the current bit position, and keep only numbers with that bit in that position. If 0 and 1 are equally common, keep values with a 0 in the position being considered.\n",
    "\n",
    "For example, to determine the oxygen generator rating value using the same example diagnostic report from above:\n",
    "\n",
    "- Start with all 12 numbers and consider only the first bit of each number. There are more 1 bits (7) than 0 bits (5), so keep only the 7 numbers with a 1 in the first position: 11110, 10110, 10111, 10101, 11100, 10000, and 11001.\n",
    "- Then, consider the second bit of the 7 remaining numbers: there are more 0 bits (4) than 1 bits (3), so keep only the 4 numbers with a 0 in the second position: 10110, 10111, 10101, and 10000.\n",
    "- In the third position, three of the four numbers have a 1, so keep those three: 10110, 10111, and 10101.\n",
    "- In the fourth position, two of the three numbers have a 1, so keep those two: 10110 and 10111.\n",
    "- In the fifth position, there are an equal number of 0 bits and 1 bits (one each). So, to find the oxygen generator rating, keep the number with a 1 in that position: 10111.\n",
    "- As there is only one number left, stop; the oxygen generator rating is 10111, or 23 in decimal.\n",
    "\n",
    "Then, to determine the CO2 scrubber rating value from the same example above:\n",
    "\n",
    "- Start again with all 12 numbers and consider only the first bit of each number. There are fewer 0 bits (5) than 1 bits (7), so keep only the 5 numbers with a 0 in the first position: 00100, 01111, 00111, 00010, and 01010.\n",
    "- Then, consider the second bit of the 5 remaining numbers: there are fewer 1 bits (2) than 0 bits (3), so keep only the 2 numbers with a 1 in the second position: 01111 and 01010.\n",
    "- In the third position, there are an equal number of 0 bits and 1 bits (one each). So, to find the CO2 scrubber rating, keep the number with a 0 in that position: 01010.\n",
    "- As there is only one number left, stop; the CO2 scrubber rating is 01010, or 10 in decimal.\n",
    "\n",
    "Finally, to find the life support rating, multiply the oxygen generator rating (23) by the CO2 scrubber rating (10) to get 230.\n",
    "\n",
    "Use the binary numbers in your diagnostic report to calculate the oxygen generator rating and CO2 scrubber rating, then multiply them together. What is the life support rating of the submarine? (Be sure to represent your answer in decimal, not binary.)"
   ]
  },
  {
   "cell_type": "code",
   "execution_count": null,
   "id": "random-liberia",
   "metadata": {},
   "outputs": [],
   "source": [
    "def d3_2(data):\n",
    "    counts = [0 for _ in data[0]]\n",
    "    oxygen_candidates = data\n",
    "    for i in range(data.shape[1]):\n",
    "        zeroes = oxygen_candidates[oxygen_candidates[:, i] == 0]\n",
    "        ones = oxygen_candidates[oxygen_candidates[:, i] == 1]\n",
    "        if ones.shape[0] >= zeroes.shape[0]:\n",
    "            oxygen_candidates = ones\n",
    "        else:\n",
    "            oxygen_candidates = zeroes\n",
    "        if oxygen_candidates.shape[0] == 1:\n",
    "            break\n",
    "    oxygen_rate = int(f\"0b{''.join([str(e) for e in oxygen_candidates[0, ]])}\", 2)\n",
    "    \n",
    "    co2_candidates = data\n",
    "    for i in range(data.shape[1]):\n",
    "        zeroes = co2_candidates[co2_candidates[:, i] == 0]\n",
    "        ones = co2_candidates[co2_candidates[:, i] == 1]\n",
    "        if zeroes.shape[0] <= ones.shape[0]:\n",
    "            co2_candidates = zeroes\n",
    "        else:\n",
    "            co2_candidates = ones\n",
    "        if co2_candidates.shape[0] == 1:\n",
    "            break\n",
    "    co2_rate = int(f\"0b{''.join([str(e) for e in co2_candidates[0, ]])}\", 2)\n",
    "    return oxygen_rate * co2_rate"
   ]
  },
  {
   "cell_type": "code",
   "execution_count": null,
   "id": "genetic-steal",
   "metadata": {},
   "outputs": [],
   "source": [
    "d3_2(test_data)"
   ]
  },
  {
   "cell_type": "code",
   "execution_count": null,
   "id": "equivalent-brush",
   "metadata": {},
   "outputs": [],
   "source": [
    "d3_2(data)"
   ]
  },
  {
   "cell_type": "markdown",
   "id": "accessory-brick",
   "metadata": {},
   "source": [
    "# Day 4: Giant Squid\n",
    "\n",
    "You're already almost 1.5km (almost a mile) below the surface of the ocean, already so deep that you can't see any sunlight. What you can see, however, is a giant squid that has attached itself to the outside of your submarine.\n",
    "\n",
    "Maybe it wants to play bingo?\n",
    "\n",
    "Bingo is played on a set of boards each consisting of a 5x5 grid of numbers. Numbers are chosen at random, and the chosen number is marked on all boards on which it appears. (Numbers may not appear on all boards.) If all numbers in any row or any column of a board are marked, that board wins. (Diagonals don't count.)\n",
    "\n",
    "The submarine has a bingo subsystem to help passengers (currently, you and the giant squid) pass the time. It automatically generates a random order in which to draw numbers and a random set of boards (your puzzle input). For example:\n",
    "\n",
    "```\n",
    "7,4,9,5,11,17,23,2,0,14,21,24,10,16,13,6,15,25,12,22,18,20,8,19,3,26,1\n",
    "\n",
    "22 13 17 11  0\n",
    " 8  2 23  4 24\n",
    "21  9 14 16  7\n",
    " 6 10  3 18  5\n",
    " 1 12 20 15 19\n",
    "\n",
    " 3 15  0  2 22\n",
    " 9 18 13 17  5\n",
    "19  8  7 25 23\n",
    "20 11 10 24  4\n",
    "14 21 16 12  6\n",
    "\n",
    "14 21 17 24  4\n",
    "10 16 15  9 19\n",
    "18  8 23 26 20\n",
    "22 11 13  6  5\n",
    " 2  0 12  3  7\n",
    " ```\n",
    " \n",
    " After the first five numbers are drawn (7, 4, 9, 5, and 11), there are no winners.\n",
    "After the next six numbers are drawn (17, 23, 2, 0, 14, and 21), there are still no winners. Finally, 24 is drawn.\n",
    "\n",
    "At this point, the third board wins because it has at least one complete row or column of marked numbers (in this case, the entire top row is marked: 14 21 17 24 4).\n",
    "\n",
    "The score of the winning board can now be calculated. Start by finding the sum of all unmarked numbers on that board; in this case, the sum is 188. Then, multiply that sum by the number that was just called when the board won, 24, to get the final score, 188 * 24 = 4512.\n",
    "\n",
    "To guarantee victory against the giant squid, figure out which board will win first. What will your final score be if you choose that board?"
   ]
  },
  {
   "cell_type": "code",
   "execution_count": null,
   "id": "presidential-lottery",
   "metadata": {},
   "outputs": [],
   "source": [
    "def parse(data):\n",
    "    s_data = data.split(\"\\n\\n\")\n",
    "    draw = as_list(int, sep=\",\")(s_data[0])\n",
    "    boards = [as_matrix(int, col_sep=\" \")(e) for e in s_data[1:]]\n",
    "    return {\n",
    "        \"draw\": draw,\n",
    "        \"boards\": boards,\n",
    "    }"
   ]
  },
  {
   "cell_type": "code",
   "execution_count": null,
   "id": "prerequisite-gallery",
   "metadata": {},
   "outputs": [],
   "source": [
    "test_data = parse(\"\"\"\n",
    "7,4,9,5,11,17,23,2,0,14,21,24,10,16,13,6,15,25,12,22,18,20,8,19,3,26,1\n",
    "\n",
    "22 13 17 11  0\n",
    " 8  2 23  4 24\n",
    "21  9 14 16  7\n",
    " 6 10  3 18  5\n",
    " 1 12 20 15 19\n",
    "\n",
    " 3 15  0  2 22\n",
    " 9 18 13 17  5\n",
    "19  8  7 25 23\n",
    "20 11 10 24  4\n",
    "14 21 16 12  6\n",
    "\n",
    "14 21 17 24  4\n",
    "10 16 15  9 19\n",
    "18  8 23 26 20\n",
    "22 11 13  6  5\n",
    " 2  0 12  3  7\n",
    "\"\"\")\n",
    "\n",
    "data = parse(dayfile(4))"
   ]
  },
  {
   "cell_type": "code",
   "execution_count": null,
   "id": "unable-meter",
   "metadata": {},
   "outputs": [],
   "source": [
    "def is_win(board, draws):\n",
    "    won = False\n",
    "    for i in range(board.shape[0]):\n",
    "        if np.in1d(board[i, :], draws).all():\n",
    "            # Found a winning row\n",
    "            return True\n",
    "    for i in range(board.shape[1]):\n",
    "        if np.in1d(board[:, i], draws).all():\n",
    "            # Found a winning col\n",
    "            return True\n",
    "    return False"
   ]
  },
  {
   "cell_type": "code",
   "execution_count": null,
   "id": "northern-porter",
   "metadata": {},
   "outputs": [],
   "source": [
    "def d4_1(data):\n",
    "    for i in range(1, len(data[\"draw\"])):\n",
    "        curr_draw = data[\"draw\"][0:i]\n",
    "        for board in data[\"boards\"]:\n",
    "            if is_win(board, curr_draw):\n",
    "                board_values = board.flatten()\n",
    "                return np.sum(board_values[~np.isin(board_values, curr_draw)]) * curr_draw[-1]"
   ]
  },
  {
   "cell_type": "code",
   "execution_count": null,
   "id": "editorial-highland",
   "metadata": {},
   "outputs": [],
   "source": [
    "d4_1(test_data)"
   ]
  },
  {
   "cell_type": "code",
   "execution_count": null,
   "id": "champion-kruger",
   "metadata": {},
   "outputs": [],
   "source": [
    "d4_1(data)"
   ]
  },
  {
   "cell_type": "markdown",
   "id": "heavy-finance",
   "metadata": {},
   "source": [
    "## Part 2\n",
    "On the other hand, it might be wise to try a different strategy: let the giant squid win.\n",
    "\n",
    "You aren't sure how many bingo boards a giant squid could play at once, so rather than waste time counting its arms, the safe thing to do is to figure out which board will win last and choose that one. That way, no matter which boards it picks, it will win for sure.\n",
    "\n",
    "In the above example, the second board is the last to win, which happens after 13 is eventually called and its middle column is completely marked. If you were to keep playing until this point, the second board would have a sum of unmarked numbers equal to 148 for a final score of 148 * 13 = 1924.\n",
    "\n",
    "Figure out which board will win last. Once it wins, what would its final score be?"
   ]
  },
  {
   "cell_type": "code",
   "execution_count": null,
   "id": "amended-image",
   "metadata": {},
   "outputs": [],
   "source": [
    "def d4_2(data):\n",
    "    candidates = data[\"boards\"].copy()\n",
    "    for i in range(1, len(data[\"draw\"])):\n",
    "        curr_draw = data[\"draw\"][0:i]\n",
    "        for i, board in enumerate(candidates):\n",
    "            if is_win(board, curr_draw):\n",
    "                candidates.pop(i)\n",
    "                if len(candidates) == 0:\n",
    "                    board_values = board.flatten()\n",
    "                    return np.sum(board_values[~np.isin(board_values, curr_draw)]) * curr_draw[-1]"
   ]
  },
  {
   "cell_type": "code",
   "execution_count": null,
   "id": "empirical-productivity",
   "metadata": {},
   "outputs": [],
   "source": [
    "d4_2(test_data)"
   ]
  },
  {
   "cell_type": "code",
   "execution_count": null,
   "id": "standing-lawrence",
   "metadata": {},
   "outputs": [],
   "source": [
    "d4_2(data)"
   ]
  },
  {
   "cell_type": "markdown",
   "id": "painful-dutch",
   "metadata": {},
   "source": [
    "# Day 5: Hydrothermal Venture\n",
    "\n",
    "You come across a field of hydrothermal vents on the ocean floor! These vents constantly produce large, opaque clouds, so it would be best to avoid them if possible.\n",
    "\n",
    "They tend to form in lines; the submarine helpfully produces a list of nearby lines of vents (your puzzle input) for you to review. For example:\n",
    "\n",
    "```\n",
    "0,9 -> 5,9\n",
    "8,0 -> 0,8\n",
    "9,4 -> 3,4\n",
    "2,2 -> 2,1\n",
    "7,0 -> 7,4\n",
    "6,4 -> 2,0\n",
    "0,9 -> 2,9\n",
    "3,4 -> 1,4\n",
    "0,0 -> 8,8\n",
    "5,5 -> 8,2\n",
    "```\n",
    "\n",
    "Each line of vents is given as a line segment in the format x1,y1 -> x2,y2 where x1,y1 are the coordinates of one end the line segment and x2,y2 are the coordinates of the other end. These line segments include the points at both ends. In other words:\n",
    "\n",
    "- An entry like 1,1 -> 1,3 covers points 1,1, 1,2, and 1,3.\n",
    "- An entry like 9,7 -> 7,7 covers points 9,7, 8,7, and 7,7.\n",
    "\n",
    "For now, only consider horizontal and vertical lines: lines where either x1 = x2 or y1 = y2.\n",
    "\n",
    "So, the horizontal and vertical lines from the above list would produce the following diagram:\n",
    "\n",
    "```\n",
    ".......1..\n",
    "..1....1..\n",
    "..1....1..\n",
    ".......1..\n",
    ".112111211\n",
    "..........\n",
    "..........\n",
    "..........\n",
    "..........\n",
    "222111....\n",
    "```\n",
    "\n",
    "In this diagram, the top left corner is 0,0 and the bottom right corner is 9,9. Each position is shown as the number of lines which cover that point or . if no line covers that point. The top-left pair of 1s, for example, comes from 2,2 -> 2,1; the very bottom row is formed by the overlapping lines 0,9 -> 5,9 and 0,9 -> 2,9.\n",
    "\n",
    "To avoid the most dangerous areas, you need to determine the number of points where at least two lines overlap. In the above example, this is anywhere in the diagram with a 2 or larger - a total of 5 points.\n",
    "\n",
    "Consider only horizontal and vertical lines. At how many points do at least two lines overlap?"
   ]
  },
  {
   "cell_type": "code",
   "execution_count": null,
   "id": "trained-chassis",
   "metadata": {},
   "outputs": [],
   "source": [
    "def d4_line(data):\n",
    "    start, stop = tuple(data.split(\" -> \"))\n",
    "    return [\n",
    "        as_list(int, sep=\",\")(start),\n",
    "        as_list(int, sep=\",\")(stop),\n",
    "    ]\n",
    "\n",
    "parse = as_list(d4_line, sep=\"\\n\")"
   ]
  },
  {
   "cell_type": "code",
   "execution_count": null,
   "id": "induced-andrews",
   "metadata": {},
   "outputs": [],
   "source": [
    "test_data = parse(\"\"\"\n",
    "0,9 -> 5,9\n",
    "8,0 -> 0,8\n",
    "9,4 -> 3,4\n",
    "2,2 -> 2,1\n",
    "7,0 -> 7,4\n",
    "6,4 -> 2,0\n",
    "0,9 -> 2,9\n",
    "3,4 -> 1,4\n",
    "0,0 -> 8,8\n",
    "5,5 -> 8,2\n",
    "\"\"\")\n",
    "\n",
    "data = parse(dayfile(5))"
   ]
  },
  {
   "cell_type": "code",
   "execution_count": null,
   "id": "tired-complaint",
   "metadata": {},
   "outputs": [],
   "source": [
    "def d5_1(data):\n",
    "    sparse_grid = {}\n",
    "    overlaps = set()\n",
    "    for start, stop in data:\n",
    "        x1, y1 = start\n",
    "        x2, y2 = stop\n",
    "        \n",
    "        # check line is straight\n",
    "        if x1 != x2 and y1 != y2:\n",
    "            continue\n",
    "        \n",
    "        xb = min(x1, x2)\n",
    "        xe = max(x1, x2) + 1\n",
    "        yb = min(y1, y2)\n",
    "        ye = max(y1, y2) + 1\n",
    "        for i in range(xb, xe):\n",
    "            for j in range(yb, ye):\n",
    "                if (i, j) not in sparse_grid:\n",
    "                    sparse_grid[(i, j)] = 1\n",
    "                else:\n",
    "                    sparse_grid[(i, j)] += 1\n",
    "                    overlaps.add((i, j))\n",
    "    return len(overlaps)"
   ]
  },
  {
   "cell_type": "code",
   "execution_count": null,
   "id": "foster-privilege",
   "metadata": {},
   "outputs": [],
   "source": [
    "d5_1(test_data)"
   ]
  },
  {
   "cell_type": "code",
   "execution_count": null,
   "id": "effective-jenny",
   "metadata": {},
   "outputs": [],
   "source": [
    "d5_1(data)"
   ]
  },
  {
   "cell_type": "markdown",
   "id": "sustainable-father",
   "metadata": {},
   "source": [
    "## Part 2\n",
    "\n",
    "Unfortunately, considering only horizontal and vertical lines doesn't give you the full picture; you need to also consider diagonal lines.\n",
    "\n",
    "Because of the limits of the hydrothermal vent mapping system, the lines in your list will only ever be horizontal, vertical, or a diagonal line at exactly 45 degrees. In other words:\n",
    "\n",
    "- An entry like 1,1 -> 3,3 covers points 1,1, 2,2, and 3,3.\n",
    "- An entry like 9,7 -> 7,9 covers points 9,7, 8,8, and 7,9.\n",
    "\n",
    "Considering all lines from the above example would now produce the following diagram:\n",
    "\n",
    "```\n",
    "1.1....11.\n",
    ".111...2..\n",
    "..2.1.111.\n",
    "...1.2.2..\n",
    ".112313211\n",
    "...1.2....\n",
    "..1...1...\n",
    ".1.....1..\n",
    "1.......1.\n",
    "222111....\n",
    "```\n",
    "\n",
    "You still need to determine the number of points where at least two lines overlap. In the above example, this is still anywhere in the diagram with a 2 or larger - now a total of 12 points.\n",
    "\n",
    "Consider all of the lines. At how many points do at least two lines overlap?"
   ]
  },
  {
   "cell_type": "code",
   "execution_count": null,
   "id": "entertaining-private",
   "metadata": {},
   "outputs": [],
   "source": [
    "def d5_2(data, out=sys.stdout):\n",
    "    sparse_grid = {}\n",
    "    overlaps = set()\n",
    "    x_max = 0\n",
    "    y_max = 0\n",
    "    for start, stop in data:\n",
    "        x1, y1 = start\n",
    "        x2, y2 = stop\n",
    "        \n",
    "        x_max = max(x_max, max(x1, x2))\n",
    "        y_max = max(y_max, max(y1, y2))\n",
    "        \n",
    "        if x1 == x2 or y1 == y2:\n",
    "            xb = min(x1, x2)\n",
    "            xe = max(x1, x2) + 1\n",
    "            yb = min(y1, y2)\n",
    "            ye = max(y1, y2) + 1\n",
    "            values = [(x, y)\n",
    "                      for x in range(xb, xe)\n",
    "                      for y in range(yb, ye)]\n",
    "        else:\n",
    "            x_step = 1 if x1 <= x2 else -1\n",
    "            y_step = 1 if y1 <= y2 else -1\n",
    "            values = zip(\n",
    "                range(x1, x2 + x_step, x_step),\n",
    "                range(y1, y2 + y_step, y_step),\n",
    "            )\n",
    "        \n",
    "        for (i, j) in values:\n",
    "                if (i, j) not in sparse_grid:\n",
    "                    sparse_grid[(i, j)] = 1\n",
    "                else:\n",
    "                    sparse_grid[(i, j)] += 1\n",
    "                    overlaps.add((i, j))\n",
    "    \n",
    "    # Display the result\n",
    "    for i in range(0, x_max + 1):\n",
    "        for j in range(0, y_max + 1):\n",
    "            if (j, i) not in sparse_grid:\n",
    "                print(\".\", end=\"\", file=out)\n",
    "            else:\n",
    "                print(sparse_grid[(j, i)], end=\"\", file=out)\n",
    "        \n",
    "        print(\"\", file=out)\n",
    "    \n",
    "    return len(overlaps)"
   ]
  },
  {
   "cell_type": "code",
   "execution_count": null,
   "id": "seventh-equipment",
   "metadata": {},
   "outputs": [],
   "source": [
    "d5_2(test_data)"
   ]
  },
  {
   "cell_type": "code",
   "execution_count": null,
   "id": "eleven-gather",
   "metadata": {},
   "outputs": [],
   "source": [
    "with open(\"day5_2_out\", \"w\") as out:\n",
    "    print(d5_2(data, out))"
   ]
  },
  {
   "cell_type": "markdown",
   "id": "rational-absence",
   "metadata": {},
   "source": [
    "# Day 6: Lanternfish\n",
    "\n",
    "The sea floor is getting steeper. Maybe the sleigh keys got carried this way?\n",
    "\n",
    "A massive school of glowing lanternfish swims past. They must spawn quickly to reach such large numbers - maybe exponentially quickly? You should model their growth rate to be sure.\n",
    "\n",
    "Although you know nothing about this specific species of lanternfish, you make some guesses about their attributes. Surely, each lanternfish creates a new lanternfish once every 7 days.\n",
    "\n",
    "However, this process isn't necessarily synchronized between every lanternfish - one lanternfish might have 2 days left until it creates another lanternfish, while another might have 4. So, you can model each fish as a single number that represents the number of days until it creates a new lanternfish.\n",
    "\n",
    "Furthermore, you reason, a new lanternfish would surely need slightly longer before it's capable of producing more lanternfish: two more days for its first cycle.\n",
    "\n",
    "So, suppose you have a lanternfish with an internal timer value of 3:\n",
    "\n",
    "- After one day, its internal timer would become 2.\n",
    "- After another day, its internal timer would become 1.\n",
    "- After another day, its internal timer would become 0.\n",
    "- After another day, its internal timer would reset to 6, and it would create a new lanternfish with an internal timer of 8.\n",
    "- After another day, the first lanternfish would have an internal timer of 5, and the second lanternfish would have an internal timer of 7.\n",
    "\n",
    "A lanternfish that creates a new fish resets its timer to 6, not 7 (because 0 is included as a valid timer value). The new lanternfish starts with an internal timer of 8 and does not start counting down until the next day.\n",
    "\n",
    "Realizing what you're trying to do, the submarine automatically produces a list of the ages of several hundred nearby lanternfish (your puzzle input). For example, suppose you were given the following list:\n",
    "\n",
    "```\n",
    "3,4,3,1,2\n",
    "```\n",
    "\n",
    "This list means that the first fish has an internal timer of 3, the second fish has an internal timer of 4, and so on until the fifth fish, which has an internal timer of 2. Simulating these fish over several days would proceed as follows:\n",
    "\n",
    "```\n",
    "Initial state: 3,4,3,1,2\n",
    "After  1 day:  2,3,2,0,1\n",
    "After  2 days: 1,2,1,6,0,8\n",
    "After  3 days: 0,1,0,5,6,7,8\n",
    "After  4 days: 6,0,6,4,5,6,7,8,8\n",
    "After  5 days: 5,6,5,3,4,5,6,7,7,8\n",
    "After  6 days: 4,5,4,2,3,4,5,6,6,7\n",
    "After  7 days: 3,4,3,1,2,3,4,5,5,6\n",
    "After  8 days: 2,3,2,0,1,2,3,4,4,5\n",
    "After  9 days: 1,2,1,6,0,1,2,3,3,4,8\n",
    "After 10 days: 0,1,0,5,6,0,1,2,2,3,7,8\n",
    "After 11 days: 6,0,6,4,5,6,0,1,1,2,6,7,8,8,8\n",
    "After 12 days: 5,6,5,3,4,5,6,0,0,1,5,6,7,7,7,8,8\n",
    "After 13 days: 4,5,4,2,3,4,5,6,6,0,4,5,6,6,6,7,7,8,8\n",
    "After 14 days: 3,4,3,1,2,3,4,5,5,6,3,4,5,5,5,6,6,7,7,8\n",
    "After 15 days: 2,3,2,0,1,2,3,4,4,5,2,3,4,4,4,5,5,6,6,7\n",
    "After 16 days: 1,2,1,6,0,1,2,3,3,4,1,2,3,3,3,4,4,5,5,6,8\n",
    "After 17 days: 0,1,0,5,6,0,1,2,2,3,0,1,2,2,2,3,3,4,4,5,7,8\n",
    "After 18 days: 6,0,6,4,5,6,0,1,1,2,6,0,1,1,1,2,2,3,3,4,6,7,8,8,8,8\n",
    "```\n",
    "\n",
    "Each day, a 0 becomes a 6 and adds a new 8 to the end of the list, while each other number decreases by 1 if it was present at the start of the day.\n",
    "\n",
    "In this example, after 18 days, there are a total of 26 fish. After 80 days, there would be a total of 5934.\n",
    "\n",
    "Find a way to simulate lanternfish. How many lanternfish would there be after 80 days?"
   ]
  },
  {
   "cell_type": "code",
   "execution_count": null,
   "id": "wooden-absence",
   "metadata": {},
   "outputs": [],
   "source": [
    "parse = as_list(int, sep=\",\")"
   ]
  },
  {
   "cell_type": "code",
   "execution_count": null,
   "id": "dressed-durham",
   "metadata": {},
   "outputs": [],
   "source": [
    "test_data = parse(\"3,4,3,1,2\")\n",
    "\n",
    "data = parse(dayfile(6))"
   ]
  },
  {
   "cell_type": "code",
   "execution_count": null,
   "id": "authentic-paraguay",
   "metadata": {},
   "outputs": [],
   "source": [
    "def d6_1(data, days):\n",
    "    data = data.copy()\n",
    "    for day in range(days):\n",
    "        for i, e in enumerate(data):\n",
    "            if e == 0:\n",
    "                data.append(9)\n",
    "                e = 7\n",
    "            data[i] = e - 1\n",
    "    return len(data)"
   ]
  },
  {
   "cell_type": "code",
   "execution_count": null,
   "id": "bizarre-australian",
   "metadata": {},
   "outputs": [],
   "source": [
    "d6_1(test_data, 18)"
   ]
  },
  {
   "cell_type": "code",
   "execution_count": null,
   "id": "statutory-council",
   "metadata": {},
   "outputs": [],
   "source": [
    "d6_1(test_data, 80)"
   ]
  },
  {
   "cell_type": "code",
   "execution_count": null,
   "id": "norman-agenda",
   "metadata": {},
   "outputs": [],
   "source": [
    "d6_1(data, 80)"
   ]
  },
  {
   "cell_type": "markdown",
   "id": "medical-latino",
   "metadata": {},
   "source": [
    "## Part 2\n",
    "\n",
    "Suppose the lanternfish live forever and have unlimited food and space. Would they take over the entire ocean?\n",
    "\n",
    "After 256 days in the example above, there would be a total of 26984457539 lanternfish!\n",
    "\n",
    "How many lanternfish would there be after 256 days?"
   ]
  },
  {
   "cell_type": "code",
   "execution_count": null,
   "id": "classical-groove",
   "metadata": {
    "scrolled": true
   },
   "outputs": [],
   "source": [
    "def d6_2(data, days, debug = False):\n",
    "    generations = {i:0 for i in range(7)}\n",
    "    for i in data:\n",
    "        generations[i + 1] += 1\n",
    "\n",
    "    youngs_generations = {i:0 for i in range(7)}\n",
    "    for day in range(days + 1):\n",
    "        active_gen = day % 7\n",
    "        mature_gen = (active_gen - 2) % 7\n",
    "        \n",
    "        new_youngs = generations[active_gen]\n",
    "        new_matures = youngs_generations[mature_gen]\n",
    "        youngs_generations[mature_gen] = 0\n",
    "\n",
    "        youngs_generations[active_gen] += new_youngs\n",
    "        generations[active_gen] += new_matures\n",
    "\n",
    "        if debug:\n",
    "            print(\"----------\")\n",
    "            print(f\"Day {day} / {active_gen}\")\n",
    "            print(f\"{generations=}\")\n",
    "            print(f\"{youngs_generations=}\")\n",
    "            print(f\"{active_gen=} / new youngs: {new_youngs} / new matures: {new_matures} / total matures: {sum(generations.values())} / total youngs: {sum(youngs_generations.values())}\")\n",
    "        \n",
    "    return sum(generations.values()) + sum(youngs_generations.values())"
   ]
  },
  {
   "cell_type": "code",
   "execution_count": null,
   "id": "active-fleece",
   "metadata": {},
   "outputs": [],
   "source": [
    "d6_2(test_data, 256)"
   ]
  },
  {
   "cell_type": "code",
   "execution_count": null,
   "id": "graduate-gross",
   "metadata": {},
   "outputs": [],
   "source": [
    "d6_2(data, 256)"
   ]
  },
  {
   "cell_type": "markdown",
   "id": "fatty-bubble",
   "metadata": {},
   "source": [
    "# Day 7: The Treachery of Whales\n",
    "\n",
    "A giant whale has decided your submarine is its next meal, and it's much faster than you are. There's nowhere to run!\n",
    "\n",
    "Suddenly, a swarm of crabs (each in its own tiny submarine - it's too deep for them otherwise) zooms in to rescue you! They seem to be preparing to blast a hole in the ocean floor; sensors indicate a massive underground cave system just beyond where they're aiming!\n",
    "\n",
    "The crab submarines all need to be aligned before they'll have enough power to blast a large enough hole for your submarine to get through. However, it doesn't look like they'll be aligned before the whale catches you! Maybe you can help?\n",
    "\n",
    "There's one major catch - crab submarines can only move horizontally.\n",
    "\n",
    "You quickly make a list of the horizontal position of each crab (your puzzle input). Crab submarines have limited fuel, so you need to find a way to make all of their horizontal positions match while requiring them to spend as little fuel as possible.\n",
    "\n",
    "For example, consider the following horizontal positions:\n",
    "\n",
    "```\n",
    "16,1,2,0,4,2,7,1,2,14\n",
    "```\n",
    "\n",
    "This means there's a crab with horizontal position 16, a crab with horizontal position 1, and so on.\n",
    "\n",
    "Each change of 1 step in horizontal position of a single crab costs 1 fuel. You could choose any horizontal position to align them all on, but the one that costs the least fuel is horizontal position 2:\n",
    "\n",
    "- Move from 16 to 2: 14 fuel\n",
    "- Move from 1 to 2: 1 fuel\n",
    "- Move from 2 to 2: 0 fuel\n",
    "- Move from 0 to 2: 2 fuel\n",
    "- Move from 4 to 2: 2 fuel\n",
    "- Move from 2 to 2: 0 fuel\n",
    "- Move from 7 to 2: 5 fuel\n",
    "- Move from 1 to 2: 1 fuel\n",
    "- Move from 2 to 2: 0 fuel\n",
    "- Move from 14 to 2: 12 fuel\n",
    "\n",
    "This costs a total of 37 fuel. This is the cheapest possible outcome; more expensive outcomes include aligning at position 1 (41 fuel), position 3 (39 fuel), or position 10 (71 fuel).\n",
    "\n",
    "Determine the horizontal position that the crabs can align to using the least fuel possible. How much fuel must they spend to align to that position?\n",
    "\n"
   ]
  },
  {
   "cell_type": "code",
   "execution_count": null,
   "id": "thick-height",
   "metadata": {},
   "outputs": [],
   "source": [
    "parse = as_list(int, sep=\",\")"
   ]
  },
  {
   "cell_type": "code",
   "execution_count": null,
   "id": "eastern-hypothesis",
   "metadata": {},
   "outputs": [],
   "source": [
    "test_data = parse(\"16,1,2,0,4,2,7,1,2,14\")\n",
    "\n",
    "data = parse(dayfile(7))"
   ]
  },
  {
   "cell_type": "code",
   "execution_count": null,
   "id": "biological-distributor",
   "metadata": {},
   "outputs": [],
   "source": [
    "def d7_1(data):\n",
    "    min_cost = None\n",
    "    min_pos = None\n",
    "    for i in range(min(data), max(data) + 1):\n",
    "        total_cost = 0\n",
    "        for e in data:\n",
    "            total_cost += abs(e - i)\n",
    "        if min_cost is None or min_cost > total_cost:\n",
    "            min_cost = total_cost\n",
    "            min_pos = i\n",
    "    return min_pos, min_cost"
   ]
  },
  {
   "cell_type": "code",
   "execution_count": null,
   "id": "convertible-vehicle",
   "metadata": {},
   "outputs": [],
   "source": [
    "d7_1(test_data)"
   ]
  },
  {
   "cell_type": "code",
   "execution_count": null,
   "id": "naughty-operation",
   "metadata": {},
   "outputs": [],
   "source": [
    "d7_1(data)"
   ]
  },
  {
   "cell_type": "markdown",
   "id": "promising-still",
   "metadata": {},
   "source": [
    "## Part 2\n",
    "\n",
    "The crabs don't seem interested in your proposed solution. Perhaps you misunderstand crab engineering?\n",
    "\n",
    "As it turns out, crab submarine engines don't burn fuel at a constant rate. Instead, each change of 1 step in horizontal position costs 1 more unit of fuel than the last: the first step costs 1, the second step costs 2, the third step costs 3, and so on.\n",
    "\n",
    "As each crab moves, moving further becomes more expensive. This changes the best horizontal position to align them all on; in the example above, this becomes 5:\n",
    "\n",
    "- Move from 16 to 5: 66 fuel\n",
    "- Move from 1 to 5: 10 fuel\n",
    "- Move from 2 to 5: 6 fuel\n",
    "- Move from 0 to 5: 15 fuel\n",
    "- Move from 4 to 5: 1 fuel\n",
    "- Move from 2 to 5: 6 fuel\n",
    "- Move from 7 to 5: 3 fuel\n",
    "- Move from 1 to 5: 10 fuel\n",
    "- Move from 2 to 5: 6 fuel\n",
    "- Move from 14 to 5: 45 fuel\n",
    "\n",
    "This costs a total of 168 fuel. This is the new cheapest possible outcome; the old alignment position (2) now costs 206 fuel instead.\n",
    "\n",
    "Determine the horizontal position that the crabs can align to using the least fuel possible so they can make you an escape route! How much fuel must they spend to align to that position?\n",
    "\n"
   ]
  },
  {
   "cell_type": "code",
   "execution_count": null,
   "id": "nuclear-sydney",
   "metadata": {},
   "outputs": [],
   "source": [
    "def d7_2(data):\n",
    "    min_cost = None\n",
    "    min_pos = None\n",
    "    for i in range(min(data), max(data) + 1):\n",
    "        total_cost = 0\n",
    "        for e in data:\n",
    "            dist = abs(e - i)\n",
    "            total_cost += dist * (dist + 1) / 2\n",
    "        if min_cost is None or min_cost > total_cost:\n",
    "            min_cost = total_cost\n",
    "            min_pos = i\n",
    "    return min_pos, min_cost"
   ]
  },
  {
   "cell_type": "code",
   "execution_count": null,
   "id": "spoken-amino",
   "metadata": {},
   "outputs": [],
   "source": [
    "d7_2(test_data)"
   ]
  },
  {
   "cell_type": "code",
   "execution_count": null,
   "id": "particular-fleet",
   "metadata": {},
   "outputs": [],
   "source": [
    "d7_2(data)"
   ]
  },
  {
   "cell_type": "markdown",
   "id": "urban-semester",
   "metadata": {},
   "source": [
    "# Day 8: Seven Segment Search\n",
    "\n",
    "You barely reach the safety of the cave when the whale smashes into the cave mouth, collapsing it. Sensors indicate another exit to this cave at a much greater depth, so you have no choice but to press on.\n",
    "\n",
    "As your submarine slowly makes its way through the cave system, you notice that the four-digit seven-segment displays in your submarine are malfunctioning; they must have been damaged during the escape. You'll be in a lot of trouble without them, so you'd better figure out what's wrong.\n",
    "\n",
    "Each digit of a seven-segment display is rendered by turning on or off any of seven segments named a through g:\n",
    "\n",
    "```\n",
    "  0:      1:      2:      3:      4:\n",
    " aaaa    ....    aaaa    aaaa    ....\n",
    "b    c  .    c  .    c  .    c  b    c\n",
    "b    c  .    c  .    c  .    c  b    c\n",
    " ....    ....    dddd    dddd    dddd\n",
    "e    f  .    f  e    .  .    f  .    f\n",
    "e    f  .    f  e    .  .    f  .    f\n",
    " gggg    ....    gggg    gggg    ....\n",
    "\n",
    "  5:      6:      7:      8:      9:\n",
    " aaaa    aaaa    aaaa    aaaa    aaaa\n",
    "b    .  b    .  .    c  b    c  b    c\n",
    "b    .  b    .  .    c  b    c  b    c\n",
    " dddd    dddd    ....    dddd    dddd\n",
    ".    f  e    f  .    f  e    f  .    f\n",
    ".    f  e    f  .    f  e    f  .    f\n",
    " gggg    gggg    ....    gggg    gggg\n",
    "```\n",
    "\n",
    "So, to render a 1, only segments c and f would be turned on; the rest would be off. To render a 7, only segments a, c, and f would be turned on.\n",
    "\n",
    "The problem is that the signals which control the segments have been mixed up on each display. The submarine is still trying to display numbers by producing output on signal wires a through g, but those wires are connected to segments randomly. Worse, the wire/segment connections are mixed up separately for each four-digit display! (All of the digits within a display use the same connections, though.)\n",
    "\n",
    "So, you might know that only signal wires b and g are turned on, but that doesn't mean segments b and g are turned on: the only digit that uses two segments is 1, so it must mean segments c and f are meant to be on. With just that information, you still can't tell which wire (b/g) goes to which segment (c/f). For that, you'll need to collect more information.\n",
    "\n",
    "For each display, you watch the changing signals for a while, make a note of all ten unique signal patterns you see, and then write down a single four digit output value (your puzzle input). Using the signal patterns, you should be able to work out which pattern corresponds to which digit.\n",
    "\n",
    "For example, here is what you might see in a single entry in your notes:\n",
    "\n",
    "```\n",
    "acedgfb cdfbe gcdfa fbcad dab cefabd cdfgeb eafb cagedb ab |\n",
    "cdfeb fcadb cdfeb cdbaf\n",
    "```\n",
    "\n",
    "(The entry is wrapped here to two lines so it fits; in your notes, it will all be on a single line.)\n",
    "\n",
    "Each entry consists of ten unique signal patterns, a | delimiter, and finally the four digit output value. Within an entry, the same wire/segment connections are used (but you don't know what the connections actually are). The unique signal patterns correspond to the ten different ways the submarine tries to render a digit using the current wire/segment connections. Because 7 is the only digit that uses three segments, dab in the above example means that to render a 7, signal lines d, a, and b are on. Because 4 is the only digit that uses four segments, eafb means that to render a 4, signal lines e, a, f, and b are on.\n",
    "\n",
    "Using this information, you should be able to work out which combination of signal wires corresponds to each of the ten digits. Then, you can decode the four digit output value. Unfortunately, in the above example, all of the digits in the output value (cdfeb fcadb cdfeb cdbaf) use five segments and are more difficult to deduce.\n",
    "\n",
    "For now, focus on the easy digits. Consider this larger example:\n",
    "\n",
    "```\n",
    "be cfbegad cbdgef fgaecd cgeb fdcge agebfd fecdb fabcd edb |\n",
    "fdgacbe cefdb cefbgd gcbe\n",
    "edbfga begcd cbg gc gcadebf fbgde acbgfd abcde gfcbed gfec |\n",
    "fcgedb cgb dgebacf gc\n",
    "fgaebd cg bdaec gdafb agbcfd gdcbef bgcad gfac gcb cdgabef |\n",
    "cg cg fdcagb cbg\n",
    "fbegcd cbd adcefb dageb afcb bc aefdc ecdab fgdeca fcdbega |\n",
    "efabcd cedba gadfec cb\n",
    "aecbfdg fbg gf bafeg dbefa fcge gcbea fcaegb dgceab fcbdga |\n",
    "gecf egdcabf bgf bfgea\n",
    "fgeab ca afcebg bdacfeg cfaedg gcfdb baec bfadeg bafgc acf |\n",
    "gebdcfa ecba ca fadegcb\n",
    "dbcfg fgd bdegcaf fgec aegbdf ecdfab fbedc dacgb gdcebf gf |\n",
    "cefg dcbef fcge gbcadfe\n",
    "bdfegc cbegaf gecbf dfcage bdacg ed bedf ced adcbefg gebcd |\n",
    "ed bcgafe cdgba cbgef\n",
    "egadfb cdbfeg cegd fecab cgb gbdefca cg fgcdab egfdb bfceg |\n",
    "gbdfcae bgc cg cgb\n",
    "gcafb gcf dcaebfg ecagb gf abcdeg gaef cafbge fdbac fegbdc |\n",
    "fgae cfgab fg bagce\n",
    "```\n",
    "\n",
    "Because the digits 1, 4, 7, and 8 each use a unique number of segments, you should be able to tell which combinations of signals correspond to those digits. Counting only digits in the output values (the part after | on each line), in the above example, there are 26 instances of digits that use a unique number of segments (highlighted above).\n",
    "\n",
    "In the output values, how many times do digits 1, 4, 7, or 8 appear?"
   ]
  },
  {
   "cell_type": "code",
   "execution_count": null,
   "id": "marked-customer",
   "metadata": {},
   "outputs": [],
   "source": [
    "def d8_entry(data):\n",
    "    patterns, out = tuple(data.split(\" | \"))\n",
    "    return [\n",
    "        as_list(set, sep=\" \")(patterns),\n",
    "        as_list(set, sep=\" \")(out),\n",
    "    ]\n",
    "\n",
    "parse = as_list(d8_entry, sep=\"\\n\")"
   ]
  },
  {
   "cell_type": "code",
   "execution_count": null,
   "id": "placed-wedding",
   "metadata": {},
   "outputs": [],
   "source": [
    "test_data_small = d8_entry(\"acedgfb cdfbe gcdfa fbcad dab cefabd cdfgeb eafb cagedb ab | cdfeb fcadb cdfeb cdbaf\")\n",
    "\n",
    "test_data = parse(\"\"\"\n",
    "be cfbegad cbdgef fgaecd cgeb fdcge agebfd fecdb fabcd edb | fdgacbe cefdb cefbgd gcbe\n",
    "edbfga begcd cbg gc gcadebf fbgde acbgfd abcde gfcbed gfec | fcgedb cgb dgebacf gc\n",
    "fgaebd cg bdaec gdafb agbcfd gdcbef bgcad gfac gcb cdgabef | cg cg fdcagb cbg\n",
    "fbegcd cbd adcefb dageb afcb bc aefdc ecdab fgdeca fcdbega | efabcd cedba gadfec cb\n",
    "aecbfdg fbg gf bafeg dbefa fcge gcbea fcaegb dgceab fcbdga | gecf egdcabf bgf bfgea\n",
    "fgeab ca afcebg bdacfeg cfaedg gcfdb baec bfadeg bafgc acf | gebdcfa ecba ca fadegcb\n",
    "dbcfg fgd bdegcaf fgec aegbdf ecdfab fbedc dacgb gdcebf gf | cefg dcbef fcge gbcadfe\n",
    "bdfegc cbegaf gecbf dfcage bdacg ed bedf ced adcbefg gebcd | ed bcgafe cdgba cbgef\n",
    "egadfb cdbfeg cegd fecab cgb gbdefca cg fgcdab egfdb bfceg | gbdfcae bgc cg cgb\n",
    "gcafb gcf dcaebfg ecagb gf abcdeg gaef cafbge fdbac fegbdc | fgae cfgab fg bagce\n",
    "\"\"\")\n",
    "\n",
    "data = parse(dayfile(8))"
   ]
  },
  {
   "cell_type": "code",
   "execution_count": null,
   "id": "intermediate-heating",
   "metadata": {},
   "outputs": [],
   "source": [
    "test_data_small"
   ]
  },
  {
   "cell_type": "code",
   "execution_count": null,
   "id": "latest-blond",
   "metadata": {},
   "outputs": [],
   "source": [
    "def canon(e):\n",
    "    return \"\".join(sorted(list(e)))\n",
    "\n",
    "def d8_solve(entry):\n",
    "    patterns = entry[0]\n",
    "    out = entry[1]\n",
    "\n",
    "    patterns.sort(key=len)\n",
    "\n",
    "    solved = {\n",
    "        1: patterns[0],\n",
    "        7: patterns[1],\n",
    "        4: patterns[2],\n",
    "        8: patterns[9],\n",
    "    }\n",
    "\n",
    "    cand_5_seg = patterns[3:6]  # 2, 3, 5\n",
    "    cand_6_seg = patterns[6:9]  # 0, 6, 9\n",
    "\n",
    "    # find 3\n",
    "    for e in cand_5_seg.copy():\n",
    "        if len(e.intersection(solved[1])) == 2:\n",
    "            solved[3] = e\n",
    "            cand_5_seg.remove(e)\n",
    "            break\n",
    "\n",
    "    for e in cand_6_seg.copy():\n",
    "        if len(e.intersection(solved[1])) == 1:\n",
    "            solved[6] = e\n",
    "            cand_6_seg.remove(e)\n",
    "        if len(e.intersection(solved[3])) == len(solved[3]):\n",
    "            solved[9] = e\n",
    "            cand_6_seg.remove(e)\n",
    "    solved[0] = cand_6_seg[0]\n",
    "\n",
    "    if len(cand_5_seg[0].intersection(solved[9])) == len(cand_5_seg[0]):\n",
    "        solved[5] = cand_5_seg[0]\n",
    "        solved[2] = cand_5_seg[1]\n",
    "    else:\n",
    "        solved[2] = cand_5_seg[0]\n",
    "        solved[5] = cand_5_seg[1]\n",
    "\n",
    "    mapping = {canon(v): k for k, v in solved.items()}\n",
    "\n",
    "    return [mapping[canon(e)] for e in out]\n",
    "\n",
    "def d8_1(data):\n",
    "    counts = [0, 0, 0, 0, 0, 0, 0, 0, 0, 0]\n",
    "    for entry in data:\n",
    "        for e in d8_solve(entry):\n",
    "            counts[e] += 1\n",
    "    return counts[1] + counts[4] + counts[7] + counts[8]"
   ]
  },
  {
   "cell_type": "code",
   "execution_count": null,
   "id": "legendary-buffer",
   "metadata": {},
   "outputs": [],
   "source": [
    "d8_1(test_data)"
   ]
  },
  {
   "cell_type": "code",
   "execution_count": null,
   "id": "north-practitioner",
   "metadata": {},
   "outputs": [],
   "source": [
    "d8_1(data)"
   ]
  },
  {
   "cell_type": "markdown",
   "id": "effective-cocktail",
   "metadata": {},
   "source": [
    "## Part 2\n",
    "\n",
    "Through a little deduction, you should now be able to determine the remaining digits. Consider again the first example above:\n",
    "\n",
    "acedgfb cdfbe gcdfa fbcad dab cefabd cdfgeb eafb cagedb ab |\n",
    "cdfeb fcadb cdfeb cdbaf\n",
    "\n",
    "After some careful analysis, the mapping between signal wires and segments only make sense in the following configuration:\n",
    "\n",
    " dddd\n",
    "e    a\n",
    "e    a\n",
    " ffff\n",
    "g    b\n",
    "g    b\n",
    " cccc\n",
    "\n",
    "So, the unique signal patterns would correspond to the following digits:\n",
    "\n",
    "- acedgfb: 8\n",
    "- cdfbe: 5\n",
    "- gcdfa: 2\n",
    "- fbcad: 3\n",
    "- dab: 7\n",
    "- cefabd: 9\n",
    "- cdfgeb: 6\n",
    "- eafb: 4\n",
    "- cagedb: 0\n",
    "- ab: 1\n",
    "\n",
    "Then, the four digits of the output value can be decoded:\n",
    "\n",
    "- cdfeb: 5\n",
    "- fcadb: 3\n",
    "- cdfeb: 5\n",
    "- cdbaf: 3\n",
    "\n",
    "Therefore, the output value for this entry is 5353.\n",
    "\n",
    "Following this same process for each entry in the second, larger example above, the output value of each entry can be determined:\n",
    "\n",
    "- fdgacbe cefdb cefbgd gcbe: 8394\n",
    "- fcgedb cgb dgebacf gc: 9781\n",
    "- cg cg fdcagb cbg: 1197\n",
    "- efabcd cedba gadfec cb: 9361\n",
    "- gecf egdcabf bgf bfgea: 4873\n",
    "- gebdcfa ecba ca fadegcb: 8418\n",
    "- cefg dcbef fcge gbcadfe: 4548\n",
    "- ed bcgafe cdgba cbgef: 1625\n",
    "- gbdfcae bgc cg cgb: 8717\n",
    "- fgae cfgab fg bagce: 4315\n",
    "\n",
    "Adding all of the output values in this larger example produces 61229.\n",
    "\n",
    "For each entry, determine all of the wire/segment connections and decode the four-digit output values. What do you get if you add up all of the output values?"
   ]
  },
  {
   "cell_type": "code",
   "execution_count": null,
   "id": "impaired-synthesis",
   "metadata": {},
   "outputs": [],
   "source": [
    "def d8_2(data):\n",
    "    total = 0\n",
    "    for entry in data:\n",
    "        total += int(\"\".join(map(str, d8_solve(entry))))\n",
    "    return total"
   ]
  },
  {
   "cell_type": "code",
   "execution_count": null,
   "id": "tutorial-mailing",
   "metadata": {},
   "outputs": [],
   "source": [
    "d8_2(test_data)"
   ]
  },
  {
   "cell_type": "code",
   "execution_count": null,
   "id": "governmental-concept",
   "metadata": {},
   "outputs": [],
   "source": [
    "d8_2(data)"
   ]
  },
  {
   "cell_type": "markdown",
   "id": "occasional-karaoke",
   "metadata": {},
   "source": [
    "# Day 9: Smoke Basin\n",
    "\n",
    "These caves seem to be lava tubes. Parts are even still volcanically active; small hydrothermal vents release smoke into the caves that slowly settles like rain.\n",
    "\n",
    "If you can model how the smoke flows through the caves, you might be able to avoid it and be that much safer. The submarine generates a heightmap of the floor of the nearby caves for you (your puzzle input).\n",
    "\n",
    "Smoke flows to the lowest point of the area it's in. For example, consider the following heightmap:\n",
    "\n",
    "```\n",
    "2199943210\n",
    "3987894921\n",
    "9856789892\n",
    "8767896789\n",
    "9899965678\n",
    "```\n",
    "\n",
    "Each number corresponds to the height of a particular location, where 9 is the highest and 0 is the lowest a location can be.\n",
    "\n",
    "Your first goal is to find the low points - the locations that are lower than any of its adjacent locations. Most locations have four adjacent locations (up, down, left, and right); locations on the edge or corner of the map have three or two adjacent locations, respectively. (Diagonal locations do not count as adjacent.)\n",
    "\n",
    "In the above example, there are four low points, all highlighted: two are in the first row (a 1 and a 0), one is in the third row (a 5), and one is in the bottom row (also a 5). All other locations on the heightmap have some lower adjacent location, and so are not low points.\n",
    "\n",
    "The risk level of a low point is 1 plus its height. In the above example, the risk levels of the low points are 2, 1, 6, and 6. The sum of the risk levels of all low points in the heightmap is therefore 15.\n",
    "\n",
    "Find all of the low points on your heightmap. What is the sum of the risk levels of all low points on your heightmap?\n",
    "\n"
   ]
  },
  {
   "cell_type": "code",
   "execution_count": null,
   "id": "recorded-defensive",
   "metadata": {},
   "outputs": [],
   "source": [
    "parse = as_matrix(int)"
   ]
  },
  {
   "cell_type": "code",
   "execution_count": null,
   "id": "powered-career",
   "metadata": {},
   "outputs": [],
   "source": [
    "test_data = parse(\"\"\"\n",
    "2199943210\n",
    "3987894921\n",
    "9856789892\n",
    "8767896789\n",
    "9899965678\n",
    "\"\"\")\n",
    "\n",
    "data = parse(dayfile(9))"
   ]
  },
  {
   "cell_type": "code",
   "execution_count": null,
   "id": "exclusive-encyclopedia",
   "metadata": {},
   "outputs": [],
   "source": [
    "def adjacency(x, y, xmax, ymax):\n",
    "    candidates = [\n",
    "        (x - 1, y),\n",
    "        (x + 1, y),\n",
    "        (x, y - 1),\n",
    "        (x, y + 1),\n",
    "    ]\n",
    "    return [\n",
    "        (i, j) for i, j in candidates\n",
    "        if i >= 0 and i < xmax and j >= 0 and j < ymax\n",
    "    ]\n",
    "\n",
    "def low_points(data):\n",
    "    low_points = []\n",
    "    xmax = data.shape[0]\n",
    "    ymax = data.shape[1]\n",
    "    for i in range(xmax):\n",
    "        for j in range(ymax):\n",
    "            val = data[i, j]\n",
    "            lowest = True\n",
    "            for i_adj, j_adj in adjacency(i, j, xmax, ymax):\n",
    "                if data[i_adj, j_adj] <= val:\n",
    "                    lowest = False\n",
    "            if lowest:\n",
    "                low_points.append((i, j))\n",
    "    return low_points\n",
    "        \n",
    "\n",
    "def d9_1(data):\n",
    "    total_risk = 0\n",
    "    for x, y in low_points(data):\n",
    "        total_risk += data[x, y] + 1\n",
    "                \n",
    "    return total_risk"
   ]
  },
  {
   "cell_type": "code",
   "execution_count": null,
   "id": "ranging-stomach",
   "metadata": {},
   "outputs": [],
   "source": [
    "d9_1(test_data)"
   ]
  },
  {
   "cell_type": "code",
   "execution_count": null,
   "id": "political-ceiling",
   "metadata": {},
   "outputs": [],
   "source": [
    "d9_1(data)"
   ]
  },
  {
   "cell_type": "markdown",
   "id": "annual-editing",
   "metadata": {},
   "source": [
    "## Part 2\n",
    "\n",
    "Next, you need to find the largest basins so you know what areas are most important to avoid.\n",
    "\n",
    "A basin is all locations that eventually flow downward to a single low point. Therefore, every low point has a basin, although some basins are very small. Locations of height 9 do not count as being in any basin, and all other locations will always be part of exactly one basin.\n",
    "\n",
    "The size of a basin is the number of locations within the basin, including the low point. The example above has four basins.\n",
    "\n",
    "The top-left basin, size 3:\n",
    "\n",
    "```\n",
    "2199943210\n",
    "3987894921\n",
    "9856789892\n",
    "8767896789\n",
    "9899965678\n",
    "```\n",
    "\n",
    "The top-right basin, size 9:\n",
    "\n",
    "```\n",
    "2199943210\n",
    "3987894921\n",
    "9856789892\n",
    "8767896789\n",
    "9899965678\n",
    "```\n",
    "\n",
    "The middle basin, size 14:\n",
    "\n",
    "```\n",
    "2199943210\n",
    "3987894921\n",
    "9856789892\n",
    "8767896789\n",
    "9899965678\n",
    "```\n",
    "\n",
    "The bottom-right basin, size 9:\n",
    "\n",
    "```\n",
    "2199943210\n",
    "3987894921\n",
    "9856789892\n",
    "8767896789\n",
    "9899965678\n",
    "```\n",
    "\n",
    "Find the three largest basins and multiply their sizes together. In the above example, this is 9 * 14 * 9 = 1134.\n",
    "\n",
    "What do you get if you multiply together the sizes of the three largest basins?"
   ]
  },
  {
   "cell_type": "code",
   "execution_count": null,
   "id": "laughing-sending",
   "metadata": {},
   "outputs": [],
   "source": [
    "def climb_up(data, x, y):\n",
    "    res = set([(x, y)])\n",
    "    xmax = data.shape[0]\n",
    "    ymax = data.shape[1]\n",
    "    candidates = adjacency(x, y, xmax, ymax)\n",
    "    val = data[x, y]\n",
    "    for xe, ye in candidates:\n",
    "        val_e = data[xe, ye]\n",
    "        if  val_e > val and val_e < 9:\n",
    "            res = res.union(climb_up(data, xe, ye))\n",
    "    return res"
   ]
  },
  {
   "cell_type": "code",
   "execution_count": null,
   "id": "brief-mathematics",
   "metadata": {},
   "outputs": [],
   "source": [
    "def d9_2(data):\n",
    "    basins = []\n",
    "    for x, y in low_points(data):\n",
    "        basins.append(len(climb_up(data, x, y)))\n",
    "    basins.sort()\n",
    "    return basins[-3] * basins[-2] * basins[-1]"
   ]
  },
  {
   "cell_type": "code",
   "execution_count": null,
   "id": "subsequent-ozone",
   "metadata": {},
   "outputs": [],
   "source": [
    "d9_2(test_data)"
   ]
  },
  {
   "cell_type": "code",
   "execution_count": null,
   "id": "excellent-hardwood",
   "metadata": {},
   "outputs": [],
   "source": [
    "d9_2(data)"
   ]
  },
  {
   "cell_type": "markdown",
   "id": "suspected-hartford",
   "metadata": {},
   "source": [
    "---"
   ]
  }
 ],
 "metadata": {
  "kernelspec": {
   "display_name": "Python 3",
   "language": "python",
   "name": "python3"
  },
  "language_info": {
   "codemirror_mode": {
    "name": "ipython",
    "version": 3
   },
   "file_extension": ".py",
   "mimetype": "text/x-python",
   "name": "python",
   "nbconvert_exporter": "python",
   "pygments_lexer": "ipython3",
   "version": "3.8.8"
  }
 },
 "nbformat": 4,
 "nbformat_minor": 5
}
